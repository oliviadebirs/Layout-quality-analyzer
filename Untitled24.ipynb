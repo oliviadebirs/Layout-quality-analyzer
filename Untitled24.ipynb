{
 "cells": [
  {
   "cell_type": "markdown",
   "id": "b3e5a2c6-ed7c-4239-b2a5-ca8d139f3fb6",
   "metadata": {},
   "source": [
    "# Разработка модели машинного обучения на основе HTML-макетов презентаций"
   ]
  },
  {
   "cell_type": "markdown",
   "id": "838b1387-b118-4cd0-ac10-2a892189c4ac",
   "metadata": {},
   "source": [
    "### Введение\n",
    "\n",
    "Анализ качества веб-страниц и презентаций является важной задачей в области веб-аналитики и автоматизации оценки интерфейсов. В данном исследовании рассматривается подход к классификации макетов презентаций на «хорошие» и «плохие» на основе анализа их HTML-кода.\n",
    "\n",
    "### Цель исследования\n",
    "\n",
    "Цель исследования заключается в разработке методики автоматической оценки качества макетов презентаций с использованием признаков HTML и методов машинного обучения.\n",
    "\n",
    "### Задачи исследования\n",
    "\n",
    "1. Сбор и загрузка HTML-контента макетов презентаций из JSON-файлов.\n",
    "2. Извлечение признаков, характеризующих структуру, стиль и текстовое содержимое презентаций.\n",
    "3. Очистка признаков: удаление дублирующих и сильно коррелирующих параметров для повышения информативности данных.\n",
    "4. Обучение моделей машинного обучения для классификации макетов на категории «хорошие» и «плохие».\n",
    "5. Оценка качества моделей с использованием метрик точности, полноты, F1-меры и ROC-AUC.\n",
    "\n",
    "### Объекты исследования\n",
    "\n",
    "Объектом исследования являются макеты презентаций в формате HTML, которые представляют собой структурированные веб-страницы с текстовыми и графическими элементами.\n",
    "\n",
    "### Предмет исследования\n",
    "\n",
    "Предметом исследования являются количественные и категориальные признаки HTML, позволяющие различать хорошие макеты презентаций от плохих.\n",
    "\n",
    "### Методы исследования\n",
    "\n",
    "В исследовании реализована следующая методика:\n",
    "\n",
    "1. Декодирование HTML-контента макетов и подготовка данных.\n",
    "2. Извлечение структурных, текстовых и стилевых признаков (количество ссылок, теги, размеры шрифтов, поворот элементов и др.).\n",
    "3. Очистка данных от дублирующих и высококоррелированных признаков.\n",
    "4. Обучение и тестирование моделей машинного обучения (Random Forest, Logistic Regression, Gradient Boosting, KNN).\n",
    "5. Оценка качества классификации и выявление наиболее значимых признаков для различения макетов."
   ]
  },
  {
   "cell_type": "markdown",
   "id": "9ec19661-2b8a-42cb-a044-4533316123b3",
   "metadata": {},
   "source": [
    "## Предобработка"
   ]
  },
  {
   "cell_type": "code",
   "execution_count": 102,
   "id": "cd9e57ca-327a-4ce9-a203-675054408bc9",
   "metadata": {},
   "outputs": [],
   "source": [
    "# === Стандартные библиотеки ===\n",
    "import re\n",
    "import html\n",
    "import json\n",
    "from collections import Counter\n",
    "\n",
    "# === Работа с данными ===\n",
    "import pandas as pd\n",
    "import numpy as np\n",
    "\n",
    "# === Работа с HTML ===\n",
    "from bs4 import BeautifulSoup\n",
    "\n",
    "# === Визуализация ===\n",
    "import plotly.express as px\n",
    "import matplotlib.pyplot as plt\n",
    "import seaborn as sns\n",
    "\n",
    "\n",
    "# === Машинное обучение ===\n",
    "from sklearn.model_selection import train_test_split, cross_val_score\n",
    "from sklearn.preprocessing import StandardScaler\n",
    "from sklearn.linear_model import LogisticRegression\n",
    "from sklearn.ensemble import RandomForestClassifier, GradientBoostingClassifier\n",
    "from sklearn.neighbors import KNeighborsClassifier\n",
    "from sklearn.metrics import (\n",
    "    accuracy_score,\n",
    "    precision_score,\n",
    "    recall_score,\n",
    "    f1_score,\n",
    "    roc_auc_score,\n",
    "    classification_report\n",
    ")"
   ]
  },
  {
   "cell_type": "code",
   "execution_count": 81,
   "id": "34a9437e-e9ca-40b3-9d02-27125c49d9ba",
   "metadata": {},
   "outputs": [],
   "source": [
    "def decode_html_entities(content):\n",
    "    # Декодируем HTML-сущности и убираем экранирование кавычек\n",
    "    decoded = html.unescape(content)\n",
    "    decoded = decoded.replace('\\\\\"', '\"')\n",
    "    return decoded\n",
    "\n",
    "def load_and_process_dataset(file_path, label):\n",
    "    # Загружаем и обрабатываем датасет с указанной меткой\n",
    "    try:\n",
    "        with open(file_path, 'r', encoding='utf-8') as f:\n",
    "            data = json.load(f)\n",
    "        \n",
    "        processed_data = [\n",
    "            {'content': decode_html_entities(item['content']), 'label': label}\n",
    "            for item in data if 'content' in item\n",
    "        ]\n",
    "        return processed_data\n",
    "    except (FileNotFoundError, json.JSONDecodeError):\n",
    "        return []\n",
    "\n",
    "# Загрузка датасетов\n",
    "good_data = load_and_process_dataset('good.json', 1)\n",
    "bad_data = load_and_process_dataset('bad.json', 0)\n",
    "\n",
    "# Объединяем данные\n",
    "all_data = good_data + bad_data\n",
    "df = pd.DataFrame(all_data)"
   ]
  },
  {
   "cell_type": "code",
   "execution_count": 82,
   "id": "4ee0385f-6931-4b70-ac79-d9bfae4fe719",
   "metadata": {},
   "outputs": [
    {
     "data": {
      "text/html": [
       "<div>\n",
       "<style scoped>\n",
       "    .dataframe tbody tr th:only-of-type {\n",
       "        vertical-align: middle;\n",
       "    }\n",
       "\n",
       "    .dataframe tbody tr th {\n",
       "        vertical-align: top;\n",
       "    }\n",
       "\n",
       "    .dataframe thead th {\n",
       "        text-align: right;\n",
       "    }\n",
       "</style>\n",
       "<table border=\"1\" class=\"dataframe\">\n",
       "  <thead>\n",
       "    <tr style=\"text-align: right;\">\n",
       "      <th></th>\n",
       "      <th>content</th>\n",
       "      <th>label</th>\n",
       "    </tr>\n",
       "  </thead>\n",
       "  <tbody>\n",
       "    <tr>\n",
       "      <th>0</th>\n",
       "      <td>&lt;div class=\"slide h-100\" style=\"height: 100%; ...</td>\n",
       "      <td>1</td>\n",
       "    </tr>\n",
       "    <tr>\n",
       "      <th>1</th>\n",
       "      <td>&lt;div class=\"slide h-100\" style=\"height: 100%; ...</td>\n",
       "      <td>1</td>\n",
       "    </tr>\n",
       "    <tr>\n",
       "      <th>2</th>\n",
       "      <td>&lt;div class=\"slide h-100\" style=\"height: 100%; ...</td>\n",
       "      <td>1</td>\n",
       "    </tr>\n",
       "    <tr>\n",
       "      <th>3</th>\n",
       "      <td>&lt;div class=\"slide h-100\" style=\"height: 100%; ...</td>\n",
       "      <td>1</td>\n",
       "    </tr>\n",
       "    <tr>\n",
       "      <th>4</th>\n",
       "      <td>&lt;div class=\"slide h-100\" style=\"height: 100%; ...</td>\n",
       "      <td>1</td>\n",
       "    </tr>\n",
       "  </tbody>\n",
       "</table>\n",
       "</div>"
      ],
      "text/plain": [
       "                                             content  label\n",
       "0  <div class=\"slide h-100\" style=\"height: 100%; ...      1\n",
       "1  <div class=\"slide h-100\" style=\"height: 100%; ...      1\n",
       "2  <div class=\"slide h-100\" style=\"height: 100%; ...      1\n",
       "3  <div class=\"slide h-100\" style=\"height: 100%; ...      1\n",
       "4  <div class=\"slide h-100\" style=\"height: 100%; ...      1"
      ]
     },
     "execution_count": 82,
     "metadata": {},
     "output_type": "execute_result"
    }
   ],
   "source": [
    "df.head()"
   ]
  },
  {
   "cell_type": "code",
   "execution_count": 83,
   "id": "f2c4f508-f5b4-4d21-9e63-85f02cbc7bdd",
   "metadata": {},
   "outputs": [
    {
     "name": "stdout",
     "output_type": "stream",
     "text": [
      "<class 'pandas.core.frame.DataFrame'>\n",
      "RangeIndex: 120 entries, 0 to 119\n",
      "Data columns (total 2 columns):\n",
      " #   Column   Non-Null Count  Dtype \n",
      "---  ------   --------------  ----- \n",
      " 0   content  120 non-null    object\n",
      " 1   label    120 non-null    int64 \n",
      "dtypes: int64(1), object(1)\n",
      "memory usage: 2.0+ KB\n"
     ]
    }
   ],
   "source": [
    "df.info()"
   ]
  },
  {
   "cell_type": "code",
   "execution_count": 84,
   "id": "2a755838-6906-4eb1-82ad-1ea9fc12b641",
   "metadata": {},
   "outputs": [],
   "source": [
    "def decode_html(content):\n",
    "    \"\"\"Декодируем HTML-сущности\"\"\"\n",
    "    if not content:\n",
    "        return \"\"\n",
    "    return html.unescape(content)\n",
    "\n",
    "def extract_style_features(tag):\n",
    "    \"\"\"Извлекает все CSS-свойства из style тега\"\"\"\n",
    "    style = tag.get('style', '')\n",
    "    features = {}\n",
    "    for match in re.findall(r'([\\w-]+)\\s*:\\s*([^\\s;]+)', style):\n",
    "        key, value = match\n",
    "        try:\n",
    "            if value.endswith('px') or value.endswith('deg'):\n",
    "                value = float(value.rstrip('px').rstrip('deg'))\n",
    "            else:\n",
    "                value = float(value)\n",
    "        except:\n",
    "            pass\n",
    "        features[key] = value\n",
    "    return features\n",
    "\n",
    "def aggregate_style_features(tags):\n",
    "    \"\"\"Собирает статистику по всем CSS-свойствам всех тегов\"\"\"\n",
    "    all_features = {}\n",
    "    properties = {}\n",
    "    \n",
    "    for tag in tags:\n",
    "        styles = extract_style_features(tag)\n",
    "        for k, v in styles.items():\n",
    "            properties.setdefault(k, []).append(v)\n",
    "    \n",
    "    for k, values in properties.items():\n",
    "        numeric_values = [v for v in values if isinstance(v, (int, float))]\n",
    "        all_features[f'{k}_max'] = max(numeric_values) if numeric_values else 0\n",
    "        all_features[f'{k}_min'] = min(numeric_values) if numeric_values else 0\n",
    "        all_features[f'{k}_mean'] = np.mean(numeric_values) if numeric_values else 0\n",
    "        # all_features[f'{k}_var'] = np.var(numeric_values) if numeric_values else 0\n",
    "        # all_features[f'{k}_unique_count'] = len(set(values))\n",
    "    \n",
    "    return all_features\n",
    "\n",
    "def extract_structural_features(soup):\n",
    "    \"\"\"Считает структурные признаки HTML\"\"\"\n",
    "    features = {}\n",
    "    tags = soup.find_all(True)\n",
    "    features['total_tags'] = len(tags)\n",
    "    \n",
    "    tag_counts = Counter([t.name for t in tags])\n",
    "    for tag, count in tag_counts.items():\n",
    "        features[f'{tag}_count'] = count\n",
    "    \n",
    "    # Считаем текстовые признаки\n",
    "    text = soup.get_text().strip()\n",
    "    features['total_text_length'] = len(text)\n",
    "    \n",
    "    return features\n",
    "\n",
    "def extract_additional_features(html_content):\n",
    "    \"\"\"Признаки, которые ищутся по всему HTML через regex\"\"\"\n",
    "    features = {}\n",
    "    features['absolute_position_count'] = len(re.findall(r'position:\\s*absolute', html_content))\n",
    "    features['rotate_count'] = len(re.findall(r'rotate:\\s*[-.\\d]+deg', html_content))\n",
    "    features['color_count'] = len(re.findall(r'color:\\s*hsl\\([^)]+\\)', html_content))\n",
    "    features['unique_colors'] = len(set(re.findall(r'hsl\\([^)]+\\)', html_content)))\n",
    "    features['link_count'] = len(re.findall(r'<a\\b', html_content))\n",
    "    features['border_radius_count'] = len(re.findall(r'border-radius', html_content))\n",
    "    features['padding_count'] = len(re.findall(r'padding:', html_content))\n",
    "    features['background_count'] = len(re.findall(r'background:', html_content))\n",
    "    return features\n",
    "\n",
    "def extract_features(html_content):\n",
    "    \"\"\"Извлекает все признаки из HTML\"\"\"\n",
    "    decoded = decode_html(html_content)\n",
    "    soup = BeautifulSoup(decoded, 'html.parser')\n",
    "    tags = soup.find_all(True)\n",
    "    \n",
    "    features = {}\n",
    "    features.update(extract_structural_features(soup))\n",
    "    features.update(aggregate_style_features(tags))\n",
    "    features.update(extract_additional_features(decoded))\n",
    "    \n",
    "    # Средняя длина текста на entity\n",
    "    entity_count = len(soup.find_all('div', class_='entity'))\n",
    "    features['entity_count'] = entity_count\n",
    "    features['avg_text_per_entity'] = features['total_text_length']/entity_count if entity_count else 0\n",
    "    features['entity_density'] = entity_count/max(features['total_tags'],1)\n",
    "    \n",
    "    # Наличие default entity\n",
    "    features['has_default_entity'] = len(soup.find_all('div', attrs={'data-default':'true'})) > 0\n",
    "    \n",
    "    return features\n",
    "\n",
    "def create_feature_dataframe(file_label_map):\n",
    "    \"\"\"Создает DataFrame из файлов JSON с метками\"\"\"\n",
    "    all_data = []\n",
    "    for file_path, label in file_label_map.items():\n",
    "        with open(file_path, 'r', encoding='utf-8') as f:\n",
    "            data = json.load(f)\n",
    "        for item in data:\n",
    "            if 'content' in item:\n",
    "                features = extract_features(item['content'])\n",
    "                features['label'] = label\n",
    "                features['source_file'] = file_path\n",
    "                all_data.append(features)\n",
    "    df = pd.DataFrame(all_data)\n",
    "    return df.fillna(0)\n",
    "\n",
    "# === Использование ===\n",
    "if __name__ == \"__main__\":\n",
    "    # Передаем словарь: файл -> метка (1=хороший, 0=плохой)\n",
    "    df = create_feature_dataframe({'good.json':1, 'bad.json':0})"
   ]
  },
  {
   "cell_type": "code",
   "execution_count": 85,
   "id": "f2fc53dc-c36f-4695-aa28-1afc6bb471d5",
   "metadata": {},
   "outputs": [
    {
     "data": {
      "text/html": [
       "<div>\n",
       "<style scoped>\n",
       "    .dataframe tbody tr th:only-of-type {\n",
       "        vertical-align: middle;\n",
       "    }\n",
       "\n",
       "    .dataframe tbody tr th {\n",
       "        vertical-align: top;\n",
       "    }\n",
       "\n",
       "    .dataframe thead th {\n",
       "        text-align: right;\n",
       "    }\n",
       "</style>\n",
       "<table border=\"1\" class=\"dataframe\">\n",
       "  <thead>\n",
       "    <tr style=\"text-align: right;\">\n",
       "      <th></th>\n",
       "      <th>total_tags</th>\n",
       "      <th>div_count</th>\n",
       "      <th>p_count</th>\n",
       "      <th>span_count</th>\n",
       "      <th>strong_count</th>\n",
       "      <th>img_count</th>\n",
       "      <th>total_text_length</th>\n",
       "      <th>height_max</th>\n",
       "      <th>height_min</th>\n",
       "      <th>height_mean</th>\n",
       "      <th>...</th>\n",
       "      <th>mso-ansi-language_max</th>\n",
       "      <th>mso-ansi-language_min</th>\n",
       "      <th>mso-ansi-language_mean</th>\n",
       "      <th>mso-bidi-language_max</th>\n",
       "      <th>mso-bidi-language_min</th>\n",
       "      <th>mso-bidi-language_mean</th>\n",
       "      <th>b_count</th>\n",
       "      <th>mso-bidi-font-family_max</th>\n",
       "      <th>mso-bidi-font-family_min</th>\n",
       "      <th>mso-bidi-font-family_mean</th>\n",
       "    </tr>\n",
       "  </thead>\n",
       "  <tbody>\n",
       "    <tr>\n",
       "      <th>0</th>\n",
       "      <td>10</td>\n",
       "      <td>6</td>\n",
       "      <td>1.0</td>\n",
       "      <td>1.0</td>\n",
       "      <td>1.0</td>\n",
       "      <td>1.0</td>\n",
       "      <td>36</td>\n",
       "      <td>474.0</td>\n",
       "      <td>297.0</td>\n",
       "      <td>385.500000</td>\n",
       "      <td>...</td>\n",
       "      <td>0.0</td>\n",
       "      <td>0.0</td>\n",
       "      <td>0.0</td>\n",
       "      <td>0.0</td>\n",
       "      <td>0.0</td>\n",
       "      <td>0.0</td>\n",
       "      <td>0.0</td>\n",
       "      <td>0.0</td>\n",
       "      <td>0.0</td>\n",
       "      <td>0.0</td>\n",
       "    </tr>\n",
       "    <tr>\n",
       "      <th>1</th>\n",
       "      <td>33</td>\n",
       "      <td>19</td>\n",
       "      <td>7.0</td>\n",
       "      <td>4.0</td>\n",
       "      <td>0.0</td>\n",
       "      <td>3.0</td>\n",
       "      <td>428</td>\n",
       "      <td>720.0</td>\n",
       "      <td>172.0</td>\n",
       "      <td>321.714286</td>\n",
       "      <td>...</td>\n",
       "      <td>0.0</td>\n",
       "      <td>0.0</td>\n",
       "      <td>0.0</td>\n",
       "      <td>0.0</td>\n",
       "      <td>0.0</td>\n",
       "      <td>0.0</td>\n",
       "      <td>0.0</td>\n",
       "      <td>0.0</td>\n",
       "      <td>0.0</td>\n",
       "      <td>0.0</td>\n",
       "    </tr>\n",
       "    <tr>\n",
       "      <th>2</th>\n",
       "      <td>7</td>\n",
       "      <td>5</td>\n",
       "      <td>0.0</td>\n",
       "      <td>0.0</td>\n",
       "      <td>0.0</td>\n",
       "      <td>2.0</td>\n",
       "      <td>0</td>\n",
       "      <td>421.0</td>\n",
       "      <td>420.0</td>\n",
       "      <td>420.500000</td>\n",
       "      <td>...</td>\n",
       "      <td>0.0</td>\n",
       "      <td>0.0</td>\n",
       "      <td>0.0</td>\n",
       "      <td>0.0</td>\n",
       "      <td>0.0</td>\n",
       "      <td>0.0</td>\n",
       "      <td>0.0</td>\n",
       "      <td>0.0</td>\n",
       "      <td>0.0</td>\n",
       "      <td>0.0</td>\n",
       "    </tr>\n",
       "    <tr>\n",
       "      <th>3</th>\n",
       "      <td>24</td>\n",
       "      <td>9</td>\n",
       "      <td>3.0</td>\n",
       "      <td>6.0</td>\n",
       "      <td>2.0</td>\n",
       "      <td>1.0</td>\n",
       "      <td>460</td>\n",
       "      <td>348.0</td>\n",
       "      <td>255.0</td>\n",
       "      <td>316.666667</td>\n",
       "      <td>...</td>\n",
       "      <td>0.0</td>\n",
       "      <td>0.0</td>\n",
       "      <td>0.0</td>\n",
       "      <td>0.0</td>\n",
       "      <td>0.0</td>\n",
       "      <td>0.0</td>\n",
       "      <td>0.0</td>\n",
       "      <td>0.0</td>\n",
       "      <td>0.0</td>\n",
       "      <td>0.0</td>\n",
       "    </tr>\n",
       "    <tr>\n",
       "      <th>4</th>\n",
       "      <td>21</td>\n",
       "      <td>12</td>\n",
       "      <td>5.0</td>\n",
       "      <td>3.0</td>\n",
       "      <td>0.0</td>\n",
       "      <td>1.0</td>\n",
       "      <td>418</td>\n",
       "      <td>433.0</td>\n",
       "      <td>270.0</td>\n",
       "      <td>355.750000</td>\n",
       "      <td>...</td>\n",
       "      <td>0.0</td>\n",
       "      <td>0.0</td>\n",
       "      <td>0.0</td>\n",
       "      <td>0.0</td>\n",
       "      <td>0.0</td>\n",
       "      <td>0.0</td>\n",
       "      <td>0.0</td>\n",
       "      <td>0.0</td>\n",
       "      <td>0.0</td>\n",
       "      <td>0.0</td>\n",
       "    </tr>\n",
       "  </tbody>\n",
       "</table>\n",
       "<p>5 rows × 117 columns</p>\n",
       "</div>"
      ],
      "text/plain": [
       "   total_tags  div_count  p_count  span_count  strong_count  img_count  \\\n",
       "0          10          6      1.0         1.0           1.0        1.0   \n",
       "1          33         19      7.0         4.0           0.0        3.0   \n",
       "2           7          5      0.0         0.0           0.0        2.0   \n",
       "3          24          9      3.0         6.0           2.0        1.0   \n",
       "4          21         12      5.0         3.0           0.0        1.0   \n",
       "\n",
       "   total_text_length  height_max  height_min  height_mean  ...  \\\n",
       "0                 36       474.0       297.0   385.500000  ...   \n",
       "1                428       720.0       172.0   321.714286  ...   \n",
       "2                  0       421.0       420.0   420.500000  ...   \n",
       "3                460       348.0       255.0   316.666667  ...   \n",
       "4                418       433.0       270.0   355.750000  ...   \n",
       "\n",
       "   mso-ansi-language_max  mso-ansi-language_min  mso-ansi-language_mean  \\\n",
       "0                    0.0                    0.0                     0.0   \n",
       "1                    0.0                    0.0                     0.0   \n",
       "2                    0.0                    0.0                     0.0   \n",
       "3                    0.0                    0.0                     0.0   \n",
       "4                    0.0                    0.0                     0.0   \n",
       "\n",
       "   mso-bidi-language_max  mso-bidi-language_min  mso-bidi-language_mean  \\\n",
       "0                    0.0                    0.0                     0.0   \n",
       "1                    0.0                    0.0                     0.0   \n",
       "2                    0.0                    0.0                     0.0   \n",
       "3                    0.0                    0.0                     0.0   \n",
       "4                    0.0                    0.0                     0.0   \n",
       "\n",
       "   b_count  mso-bidi-font-family_max  mso-bidi-font-family_min  \\\n",
       "0      0.0                       0.0                       0.0   \n",
       "1      0.0                       0.0                       0.0   \n",
       "2      0.0                       0.0                       0.0   \n",
       "3      0.0                       0.0                       0.0   \n",
       "4      0.0                       0.0                       0.0   \n",
       "\n",
       "   mso-bidi-font-family_mean  \n",
       "0                        0.0  \n",
       "1                        0.0  \n",
       "2                        0.0  \n",
       "3                        0.0  \n",
       "4                        0.0  \n",
       "\n",
       "[5 rows x 117 columns]"
      ]
     },
     "execution_count": 85,
     "metadata": {},
     "output_type": "execute_result"
    }
   ],
   "source": [
    "df.head()"
   ]
  },
  {
   "cell_type": "code",
   "execution_count": 86,
   "id": "f911ff60-5de6-4eff-a4b4-76d4b701e44d",
   "metadata": {},
   "outputs": [
    {
     "name": "stdout",
     "output_type": "stream",
     "text": [
      "<class 'pandas.core.frame.DataFrame'>\n",
      "RangeIndex: 120 entries, 0 to 119\n",
      "Columns: 117 entries, total_tags to mso-bidi-font-family_mean\n",
      "dtypes: bool(1), float64(99), int64(16), object(1)\n",
      "memory usage: 109.0+ KB\n"
     ]
    }
   ],
   "source": [
    "df.info()"
   ]
  },
  {
   "cell_type": "code",
   "execution_count": 87,
   "id": "51c547a0-3419-4377-acd9-72856ef44c83",
   "metadata": {},
   "outputs": [],
   "source": [
    "# Разделим на признаки и метку\n",
    "X = df.drop(columns=['label', 'source_file'])\n",
    "y = df['label']\n",
    "\n",
    "rf = RandomForestClassifier(n_estimators=100, random_state=42)\n",
    "rf.fit(X, y)\n",
    "\n",
    "# Важность признаков\n",
    "importances = pd.Series(rf.feature_importances_, index=X.columns)\n",
    "important_features = importances.sort_values(ascending=False).head(15).index\n",
    "\n",
    "# Новый DataFrame с топ-20 признаками\n",
    "df_top = df[important_features.tolist() + ['label']]\n",
    "df = df_top"
   ]
  },
  {
   "cell_type": "code",
   "execution_count": 88,
   "id": "ec138e32-9f8f-4a62-a774-786300a70d20",
   "metadata": {},
   "outputs": [
    {
     "data": {
      "text/html": [
       "<div>\n",
       "<style scoped>\n",
       "    .dataframe tbody tr th:only-of-type {\n",
       "        vertical-align: middle;\n",
       "    }\n",
       "\n",
       "    .dataframe tbody tr th {\n",
       "        vertical-align: top;\n",
       "    }\n",
       "\n",
       "    .dataframe thead th {\n",
       "        text-align: right;\n",
       "    }\n",
       "</style>\n",
       "<table border=\"1\" class=\"dataframe\">\n",
       "  <thead>\n",
       "    <tr style=\"text-align: right;\">\n",
       "      <th></th>\n",
       "      <th>link_count</th>\n",
       "      <th>a_count</th>\n",
       "      <th>width_min</th>\n",
       "      <th>font-size_min</th>\n",
       "      <th>total_text_length</th>\n",
       "      <th>rotate_mean</th>\n",
       "      <th>avg_text_per_entity</th>\n",
       "      <th>font-size_mean</th>\n",
       "      <th>font-size_max</th>\n",
       "      <th>line-height_mean</th>\n",
       "      <th>rotate_max</th>\n",
       "      <th>total_tags</th>\n",
       "      <th>height_mean</th>\n",
       "      <th>span_count</th>\n",
       "      <th>height_max</th>\n",
       "      <th>label</th>\n",
       "    </tr>\n",
       "  </thead>\n",
       "  <tbody>\n",
       "    <tr>\n",
       "      <th>0</th>\n",
       "      <td>0</td>\n",
       "      <td>0.0</td>\n",
       "      <td>519.0</td>\n",
       "      <td>36.0</td>\n",
       "      <td>36</td>\n",
       "      <td>0.0</td>\n",
       "      <td>18.000000</td>\n",
       "      <td>36.000000</td>\n",
       "      <td>36.0</td>\n",
       "      <td>0.0</td>\n",
       "      <td>0.0</td>\n",
       "      <td>10</td>\n",
       "      <td>385.500000</td>\n",
       "      <td>1.0</td>\n",
       "      <td>474.0</td>\n",
       "      <td>1</td>\n",
       "    </tr>\n",
       "    <tr>\n",
       "      <th>1</th>\n",
       "      <td>0</td>\n",
       "      <td>0.0</td>\n",
       "      <td>356.0</td>\n",
       "      <td>22.0</td>\n",
       "      <td>428</td>\n",
       "      <td>0.0</td>\n",
       "      <td>61.142857</td>\n",
       "      <td>25.500000</td>\n",
       "      <td>36.0</td>\n",
       "      <td>1.0</td>\n",
       "      <td>0.0</td>\n",
       "      <td>33</td>\n",
       "      <td>321.714286</td>\n",
       "      <td>4.0</td>\n",
       "      <td>720.0</td>\n",
       "      <td>1</td>\n",
       "    </tr>\n",
       "    <tr>\n",
       "      <th>2</th>\n",
       "      <td>0</td>\n",
       "      <td>0.0</td>\n",
       "      <td>570.0</td>\n",
       "      <td>0.0</td>\n",
       "      <td>0</td>\n",
       "      <td>0.0</td>\n",
       "      <td>0.000000</td>\n",
       "      <td>0.000000</td>\n",
       "      <td>0.0</td>\n",
       "      <td>0.0</td>\n",
       "      <td>0.0</td>\n",
       "      <td>7</td>\n",
       "      <td>420.500000</td>\n",
       "      <td>0.0</td>\n",
       "      <td>421.0</td>\n",
       "      <td>1</td>\n",
       "    </tr>\n",
       "    <tr>\n",
       "      <th>3</th>\n",
       "      <td>0</td>\n",
       "      <td>0.0</td>\n",
       "      <td>457.0</td>\n",
       "      <td>28.0</td>\n",
       "      <td>460</td>\n",
       "      <td>0.0</td>\n",
       "      <td>153.333333</td>\n",
       "      <td>38.666667</td>\n",
       "      <td>60.0</td>\n",
       "      <td>1.0</td>\n",
       "      <td>0.0</td>\n",
       "      <td>24</td>\n",
       "      <td>316.666667</td>\n",
       "      <td>6.0</td>\n",
       "      <td>348.0</td>\n",
       "      <td>1</td>\n",
       "    </tr>\n",
       "    <tr>\n",
       "      <th>4</th>\n",
       "      <td>0</td>\n",
       "      <td>0.0</td>\n",
       "      <td>354.0</td>\n",
       "      <td>22.0</td>\n",
       "      <td>418</td>\n",
       "      <td>0.0</td>\n",
       "      <td>104.500000</td>\n",
       "      <td>26.666667</td>\n",
       "      <td>36.0</td>\n",
       "      <td>1.0</td>\n",
       "      <td>0.0</td>\n",
       "      <td>21</td>\n",
       "      <td>355.750000</td>\n",
       "      <td>3.0</td>\n",
       "      <td>433.0</td>\n",
       "      <td>1</td>\n",
       "    </tr>\n",
       "  </tbody>\n",
       "</table>\n",
       "</div>"
      ],
      "text/plain": [
       "   link_count  a_count  width_min  font-size_min  total_text_length  \\\n",
       "0           0      0.0      519.0           36.0                 36   \n",
       "1           0      0.0      356.0           22.0                428   \n",
       "2           0      0.0      570.0            0.0                  0   \n",
       "3           0      0.0      457.0           28.0                460   \n",
       "4           0      0.0      354.0           22.0                418   \n",
       "\n",
       "   rotate_mean  avg_text_per_entity  font-size_mean  font-size_max  \\\n",
       "0          0.0            18.000000       36.000000           36.0   \n",
       "1          0.0            61.142857       25.500000           36.0   \n",
       "2          0.0             0.000000        0.000000            0.0   \n",
       "3          0.0           153.333333       38.666667           60.0   \n",
       "4          0.0           104.500000       26.666667           36.0   \n",
       "\n",
       "   line-height_mean  rotate_max  total_tags  height_mean  span_count  \\\n",
       "0               0.0         0.0          10   385.500000         1.0   \n",
       "1               1.0         0.0          33   321.714286         4.0   \n",
       "2               0.0         0.0           7   420.500000         0.0   \n",
       "3               1.0         0.0          24   316.666667         6.0   \n",
       "4               1.0         0.0          21   355.750000         3.0   \n",
       "\n",
       "   height_max  label  \n",
       "0       474.0      1  \n",
       "1       720.0      1  \n",
       "2       421.0      1  \n",
       "3       348.0      1  \n",
       "4       433.0      1  "
      ]
     },
     "execution_count": 88,
     "metadata": {},
     "output_type": "execute_result"
    }
   ],
   "source": [
    "df.head()"
   ]
  },
  {
   "cell_type": "code",
   "execution_count": 89,
   "id": "5e06d6a5-3ab9-4fc3-86f0-b2430a48b217",
   "metadata": {},
   "outputs": [
    {
     "name": "stdout",
     "output_type": "stream",
     "text": [
      "<class 'pandas.core.frame.DataFrame'>\n",
      "RangeIndex: 120 entries, 0 to 119\n",
      "Data columns (total 16 columns):\n",
      " #   Column               Non-Null Count  Dtype  \n",
      "---  ------               --------------  -----  \n",
      " 0   link_count           120 non-null    int64  \n",
      " 1   a_count              120 non-null    float64\n",
      " 2   width_min            120 non-null    float64\n",
      " 3   font-size_min        120 non-null    float64\n",
      " 4   total_text_length    120 non-null    int64  \n",
      " 5   rotate_mean          120 non-null    float64\n",
      " 6   avg_text_per_entity  120 non-null    float64\n",
      " 7   font-size_mean       120 non-null    float64\n",
      " 8   font-size_max        120 non-null    float64\n",
      " 9   line-height_mean     120 non-null    float64\n",
      " 10  rotate_max           120 non-null    float64\n",
      " 11  total_tags           120 non-null    int64  \n",
      " 12  height_mean          120 non-null    float64\n",
      " 13  span_count           120 non-null    float64\n",
      " 14  height_max           120 non-null    float64\n",
      " 15  label                120 non-null    int64  \n",
      "dtypes: float64(12), int64(4)\n",
      "memory usage: 15.1 KB\n"
     ]
    }
   ],
   "source": [
    "df.info()"
   ]
  },
  {
   "cell_type": "markdown",
   "id": "1221e86a-f4b2-45e1-a1a0-f8dc2f23b75d",
   "metadata": {},
   "source": [
    "| Столбец               | Описание                                                                  |\r\n",
    "| --------------------- | ------------------------------------------------------------------------- |\r\n",
    "| `link_count`          | Количество ссылок `<a>` на странице.                                      |\r\n",
    "| `a_count`             | Количество тегов `<a>` на странице (по сути то же, что `link_count`).     |\r\n",
    "| `width_min`           | Минимальная ширина элементов на странице (px).                            |\r\n",
    "| `font-size_min`       | Минимальный размер шрифта на странице (px).                               |\r\n",
    "| `total_text_length`   | Общее количество символов текста на странице.                             |\r\n",
    "| `rotate_mean`         | Средний угол поворота элементов (deg).                                    |\r\n",
    "| `avg_text_per_entity` | Средняя длина текста на один entity (`total_text_length / entity_count`). |\r\n",
    "| `font-size_mean`      | Средний размер шрифта (px).                                               |\r\n",
    "| `font-size_max`       | Максимальный размер шрифта (px).                                          |\r\n",
    "| `line-height_mean`    | Средний line-height элементов.                                            |\r\n",
    "| `rotate_max`          | Максимальный угол поворота элементов (deg).                               |\r\n",
    "| `total_tags`          | Общее количество тегов на странице.                                       |\r\n",
    "| `height_mean`         | Средняя высота элементов (px).                                            |\r\n",
    "| `span_count`          | Количество тегов `<span>` на странице.                                    |\r\n",
    "| `height_max`          | Максимальная высота элементов (px).                                       |\r\n",
    "| `label`               | Метка страницы (1 = хорошая, 0 = плохая).                                 |\r\n"
   ]
  },
  {
   "cell_type": "code",
   "execution_count": 90,
   "id": "37a2846a-53c1-474a-a273-aac5cf9d2b52",
   "metadata": {},
   "outputs": [
    {
     "data": {
      "application/vnd.plotly.v1+json": {
       "config": {
        "plotlyServerURL": "https://plot.ly"
       },
       "data": [
        {
         "coloraxis": "coloraxis",
         "hovertemplate": "x: %{x}<br>y: %{y}<br>color: %{z}<extra></extra>",
         "name": "0",
         "texttemplate": "%{z}",
         "type": "heatmap",
         "x": [
          "link_count",
          "a_count",
          "width_min",
          "font-size_min",
          "total_text_length",
          "rotate_mean",
          "avg_text_per_entity",
          "font-size_mean",
          "font-size_max",
          "line-height_mean",
          "rotate_max",
          "total_tags",
          "height_mean",
          "span_count",
          "height_max",
          "label"
         ],
         "xaxis": "x",
         "y": [
          "link_count",
          "a_count",
          "width_min",
          "font-size_min",
          "total_text_length",
          "rotate_mean",
          "avg_text_per_entity",
          "font-size_mean",
          "font-size_max",
          "line-height_mean",
          "rotate_max",
          "total_tags",
          "height_mean",
          "span_count",
          "height_max",
          "label"
         ],
         "yaxis": "y",
         "z": [
          [
           1,
           1,
           -0.30492602813233666,
           -0.17592247602820577,
           0.8316344743758664,
           0.20382772735543742,
           0.4387472893676261,
           -0.19885306786746496,
           -0.25184110174843405,
           -0.2900513088136557,
           0.27890791068476656,
           0.8252474880499717,
           -0.1106363092447538,
           0.8084454308100186,
           0.09410329591135168,
           -0.5654140912898757
          ],
          [
           1,
           1,
           -0.30492602813233666,
           -0.17592247602820577,
           0.8316344743758664,
           0.20382772735543742,
           0.4387472893676261,
           -0.19885306786746496,
           -0.25184110174843405,
           -0.2900513088136557,
           0.27890791068476656,
           0.8252474880499717,
           -0.1106363092447538,
           0.8084454308100186,
           0.09410329591135168,
           -0.5654140912898757
          ],
          [
           -0.30492602813233666,
           -0.30492602813233666,
           1,
           0.1077972894054936,
           -0.1777424078323537,
           -0.09201782759327162,
           0.17164988399917844,
           0.14208913210746865,
           0.21330635121485733,
           0.14956156687336164,
           -0.1753120701093341,
           -0.30349661754746615,
           0.11140786590945763,
           -0.18772387292742027,
           -0.060511660918507196,
           0.35813840188294715
          ],
          [
           -0.17592247602820577,
           -0.17592247602820577,
           0.1077972894054936,
           1,
           -0.09708542714891139,
           -0.1124327825357524,
           -0.027726897476234334,
           0.9809809899234523,
           0.9248583090394124,
           0.0015628785755883634,
           -0.09103005470975865,
           -0.1700274045314035,
           0.3525939412887181,
           -0.1322639900906629,
           0.2082228790009137,
           0.06643750415885814
          ],
          [
           0.8316344743758664,
           0.8316344743758664,
           -0.1777424078323537,
           -0.09708542714891139,
           1,
           0.14380622753923628,
           0.6634815902956384,
           -0.12658668801365966,
           -0.151061131127378,
           -0.2366611905791047,
           0.14104572201667312,
           0.8690024012570323,
           -0.15836089089569408,
           0.9499862205469997,
           0.025005064959523555,
           -0.4567914189165392
          ],
          [
           0.20382772735543742,
           0.20382772735543742,
           -0.09201782759327162,
           -0.1124327825357524,
           0.14380622753923628,
           1,
           0.279429766765757,
           -0.11724409400058045,
           -0.12263621182185507,
           -0.23514384793471765,
           0.9215409801685525,
           0.0653276945175854,
           0.1638703013939969,
           0.18768990500144117,
           0.2517319573181782,
           -0.4583797454533451
          ],
          [
           0.4387472893676261,
           0.4387472893676261,
           0.17164988399917844,
           -0.027726897476234334,
           0.6634815902956384,
           0.279429766765757,
           1,
           -0.05985050377227505,
           -0.06758968663360294,
           -0.23245724968486256,
           0.21043196093251704,
           0.37034823059845184,
           0.11468145651156494,
           0.6028236019517847,
           0.0823647484340038,
           -0.410762436103238
          ],
          [
           -0.19885306786746496,
           -0.19885306786746496,
           0.14208913210746865,
           0.9809809899234523,
           -0.12658668801365966,
           -0.11724409400058045,
           -0.05985050377227505,
           1,
           0.9739897307838765,
           0.05620522272270105,
           -0.0942016273553535,
           -0.19458972300208988,
           0.33679854012689586,
           -0.15467938406999468,
           0.19384190676727178,
           0.11522134771379611
          ],
          [
           -0.25184110174843405,
           -0.25184110174843405,
           0.21330635121485733,
           0.9248583090394124,
           -0.151061131127378,
           -0.12263621182185507,
           -0.06758968663360294,
           0.9739897307838765,
           1,
           0.14793387103502373,
           -0.11529566593478685,
           -0.2197118663309096,
           0.3101267062904131,
           -0.17409171962259623,
           0.17143991169111972,
           0.2160975170322593
          ],
          [
           -0.2900513088136557,
           -0.2900513088136557,
           0.14956156687336164,
           0.0015628785755883634,
           -0.2366611905791047,
           -0.23514384793471765,
           -0.23245724968486256,
           0.05620522272270105,
           0.14793387103502373,
           1,
           -0.25220098902918975,
           -0.1312640853180191,
           -0.009980882097056316,
           -0.20710543383229757,
           -0.027701256643962075,
           0.5129891760425768
          ],
          [
           0.27890791068476656,
           0.27890791068476656,
           -0.1753120701093341,
           -0.09103005470975865,
           0.14104572201667312,
           0.9215409801685525,
           0.21043196093251704,
           -0.0942016273553535,
           -0.11529566593478685,
           -0.25220098902918975,
           1,
           0.10067391357860392,
           0.17346951437726962,
           0.1810261120888025,
           0.2939332624715276,
           -0.4916302347249873
          ],
          [
           0.8252474880499717,
           0.8252474880499717,
           -0.30349661754746615,
           -0.1700274045314035,
           0.8690024012570323,
           0.0653276945175854,
           0.37034823059845184,
           -0.19458972300208988,
           -0.2197118663309096,
           -0.1312640853180191,
           0.10067391357860392,
           1,
           -0.19454244679733465,
           0.9072178832172554,
           0.007631037488397003,
           -0.38492860287271485
          ],
          [
           -0.1106363092447538,
           -0.1106363092447538,
           0.11140786590945763,
           0.3525939412887181,
           -0.15836089089569408,
           0.1638703013939969,
           0.11468145651156494,
           0.33679854012689586,
           0.3101267062904131,
           -0.009980882097056316,
           0.17346951437726962,
           -0.19454244679733465,
           1,
           -0.12027984756291368,
           0.7929966465819089,
           0.03535836991820556
          ],
          [
           0.8084454308100186,
           0.8084454308100186,
           -0.18772387292742027,
           -0.1322639900906629,
           0.9499862205469997,
           0.18768990500144117,
           0.6028236019517847,
           -0.15467938406999468,
           -0.17409171962259623,
           -0.20710543383229757,
           0.1810261120888025,
           0.9072178832172554,
           -0.12027984756291368,
           1,
           0.017554797841577485,
           -0.44372064787217436
          ],
          [
           0.09410329591135168,
           0.09410329591135168,
           -0.060511660918507196,
           0.2082228790009137,
           0.025005064959523555,
           0.2517319573181782,
           0.0823647484340038,
           0.19384190676727178,
           0.17143991169111972,
           -0.027701256643962075,
           0.2939332624715276,
           0.007631037488397003,
           0.7929966465819089,
           0.017554797841577485,
           1,
           -0.08064002384091004
          ],
          [
           -0.5654140912898757,
           -0.5654140912898757,
           0.35813840188294715,
           0.06643750415885814,
           -0.4567914189165392,
           -0.4583797454533451,
           -0.410762436103238,
           0.11522134771379611,
           0.2160975170322593,
           0.5129891760425768,
           -0.4916302347249873,
           -0.38492860287271485,
           0.03535836991820556,
           -0.44372064787217436,
           -0.08064002384091004,
           1
          ]
         ]
        }
       ],
       "layout": {
        "autosize": true,
        "coloraxis": {
         "colorscale": [
          [
           0,
           "rgb(5,48,97)"
          ],
          [
           0.1,
           "rgb(33,102,172)"
          ],
          [
           0.2,
           "rgb(67,147,195)"
          ],
          [
           0.3,
           "rgb(146,197,222)"
          ],
          [
           0.4,
           "rgb(209,229,240)"
          ],
          [
           0.5,
           "rgb(247,247,247)"
          ],
          [
           0.6,
           "rgb(253,219,199)"
          ],
          [
           0.7,
           "rgb(244,165,130)"
          ],
          [
           0.8,
           "rgb(214,96,77)"
          ],
          [
           0.9,
           "rgb(178,24,43)"
          ],
          [
           1,
           "rgb(103,0,31)"
          ]
         ]
        },
        "template": {
         "data": {
          "bar": [
           {
            "error_x": {
             "color": "#2a3f5f"
            },
            "error_y": {
             "color": "#2a3f5f"
            },
            "marker": {
             "line": {
              "color": "#E5ECF6",
              "width": 0.5
             },
             "pattern": {
              "fillmode": "overlay",
              "size": 10,
              "solidity": 0.2
             }
            },
            "type": "bar"
           }
          ],
          "barpolar": [
           {
            "marker": {
             "line": {
              "color": "#E5ECF6",
              "width": 0.5
             },
             "pattern": {
              "fillmode": "overlay",
              "size": 10,
              "solidity": 0.2
             }
            },
            "type": "barpolar"
           }
          ],
          "carpet": [
           {
            "aaxis": {
             "endlinecolor": "#2a3f5f",
             "gridcolor": "white",
             "linecolor": "white",
             "minorgridcolor": "white",
             "startlinecolor": "#2a3f5f"
            },
            "baxis": {
             "endlinecolor": "#2a3f5f",
             "gridcolor": "white",
             "linecolor": "white",
             "minorgridcolor": "white",
             "startlinecolor": "#2a3f5f"
            },
            "type": "carpet"
           }
          ],
          "choropleth": [
           {
            "colorbar": {
             "outlinewidth": 0,
             "ticks": ""
            },
            "type": "choropleth"
           }
          ],
          "contour": [
           {
            "colorbar": {
             "outlinewidth": 0,
             "ticks": ""
            },
            "colorscale": [
             [
              0,
              "#0d0887"
             ],
             [
              0.1111111111111111,
              "#46039f"
             ],
             [
              0.2222222222222222,
              "#7201a8"
             ],
             [
              0.3333333333333333,
              "#9c179e"
             ],
             [
              0.4444444444444444,
              "#bd3786"
             ],
             [
              0.5555555555555556,
              "#d8576b"
             ],
             [
              0.6666666666666666,
              "#ed7953"
             ],
             [
              0.7777777777777778,
              "#fb9f3a"
             ],
             [
              0.8888888888888888,
              "#fdca26"
             ],
             [
              1,
              "#f0f921"
             ]
            ],
            "type": "contour"
           }
          ],
          "contourcarpet": [
           {
            "colorbar": {
             "outlinewidth": 0,
             "ticks": ""
            },
            "type": "contourcarpet"
           }
          ],
          "heatmap": [
           {
            "colorbar": {
             "outlinewidth": 0,
             "ticks": ""
            },
            "colorscale": [
             [
              0,
              "#0d0887"
             ],
             [
              0.1111111111111111,
              "#46039f"
             ],
             [
              0.2222222222222222,
              "#7201a8"
             ],
             [
              0.3333333333333333,
              "#9c179e"
             ],
             [
              0.4444444444444444,
              "#bd3786"
             ],
             [
              0.5555555555555556,
              "#d8576b"
             ],
             [
              0.6666666666666666,
              "#ed7953"
             ],
             [
              0.7777777777777778,
              "#fb9f3a"
             ],
             [
              0.8888888888888888,
              "#fdca26"
             ],
             [
              1,
              "#f0f921"
             ]
            ],
            "type": "heatmap"
           }
          ],
          "heatmapgl": [
           {
            "colorbar": {
             "outlinewidth": 0,
             "ticks": ""
            },
            "colorscale": [
             [
              0,
              "#0d0887"
             ],
             [
              0.1111111111111111,
              "#46039f"
             ],
             [
              0.2222222222222222,
              "#7201a8"
             ],
             [
              0.3333333333333333,
              "#9c179e"
             ],
             [
              0.4444444444444444,
              "#bd3786"
             ],
             [
              0.5555555555555556,
              "#d8576b"
             ],
             [
              0.6666666666666666,
              "#ed7953"
             ],
             [
              0.7777777777777778,
              "#fb9f3a"
             ],
             [
              0.8888888888888888,
              "#fdca26"
             ],
             [
              1,
              "#f0f921"
             ]
            ],
            "type": "heatmapgl"
           }
          ],
          "histogram": [
           {
            "marker": {
             "pattern": {
              "fillmode": "overlay",
              "size": 10,
              "solidity": 0.2
             }
            },
            "type": "histogram"
           }
          ],
          "histogram2d": [
           {
            "colorbar": {
             "outlinewidth": 0,
             "ticks": ""
            },
            "colorscale": [
             [
              0,
              "#0d0887"
             ],
             [
              0.1111111111111111,
              "#46039f"
             ],
             [
              0.2222222222222222,
              "#7201a8"
             ],
             [
              0.3333333333333333,
              "#9c179e"
             ],
             [
              0.4444444444444444,
              "#bd3786"
             ],
             [
              0.5555555555555556,
              "#d8576b"
             ],
             [
              0.6666666666666666,
              "#ed7953"
             ],
             [
              0.7777777777777778,
              "#fb9f3a"
             ],
             [
              0.8888888888888888,
              "#fdca26"
             ],
             [
              1,
              "#f0f921"
             ]
            ],
            "type": "histogram2d"
           }
          ],
          "histogram2dcontour": [
           {
            "colorbar": {
             "outlinewidth": 0,
             "ticks": ""
            },
            "colorscale": [
             [
              0,
              "#0d0887"
             ],
             [
              0.1111111111111111,
              "#46039f"
             ],
             [
              0.2222222222222222,
              "#7201a8"
             ],
             [
              0.3333333333333333,
              "#9c179e"
             ],
             [
              0.4444444444444444,
              "#bd3786"
             ],
             [
              0.5555555555555556,
              "#d8576b"
             ],
             [
              0.6666666666666666,
              "#ed7953"
             ],
             [
              0.7777777777777778,
              "#fb9f3a"
             ],
             [
              0.8888888888888888,
              "#fdca26"
             ],
             [
              1,
              "#f0f921"
             ]
            ],
            "type": "histogram2dcontour"
           }
          ],
          "mesh3d": [
           {
            "colorbar": {
             "outlinewidth": 0,
             "ticks": ""
            },
            "type": "mesh3d"
           }
          ],
          "parcoords": [
           {
            "line": {
             "colorbar": {
              "outlinewidth": 0,
              "ticks": ""
             }
            },
            "type": "parcoords"
           }
          ],
          "pie": [
           {
            "automargin": true,
            "type": "pie"
           }
          ],
          "scatter": [
           {
            "fillpattern": {
             "fillmode": "overlay",
             "size": 10,
             "solidity": 0.2
            },
            "type": "scatter"
           }
          ],
          "scatter3d": [
           {
            "line": {
             "colorbar": {
              "outlinewidth": 0,
              "ticks": ""
             }
            },
            "marker": {
             "colorbar": {
              "outlinewidth": 0,
              "ticks": ""
             }
            },
            "type": "scatter3d"
           }
          ],
          "scattercarpet": [
           {
            "marker": {
             "colorbar": {
              "outlinewidth": 0,
              "ticks": ""
             }
            },
            "type": "scattercarpet"
           }
          ],
          "scattergeo": [
           {
            "marker": {
             "colorbar": {
              "outlinewidth": 0,
              "ticks": ""
             }
            },
            "type": "scattergeo"
           }
          ],
          "scattergl": [
           {
            "marker": {
             "colorbar": {
              "outlinewidth": 0,
              "ticks": ""
             }
            },
            "type": "scattergl"
           }
          ],
          "scattermapbox": [
           {
            "marker": {
             "colorbar": {
              "outlinewidth": 0,
              "ticks": ""
             }
            },
            "type": "scattermapbox"
           }
          ],
          "scatterpolar": [
           {
            "marker": {
             "colorbar": {
              "outlinewidth": 0,
              "ticks": ""
             }
            },
            "type": "scatterpolar"
           }
          ],
          "scatterpolargl": [
           {
            "marker": {
             "colorbar": {
              "outlinewidth": 0,
              "ticks": ""
             }
            },
            "type": "scatterpolargl"
           }
          ],
          "scatterternary": [
           {
            "marker": {
             "colorbar": {
              "outlinewidth": 0,
              "ticks": ""
             }
            },
            "type": "scatterternary"
           }
          ],
          "surface": [
           {
            "colorbar": {
             "outlinewidth": 0,
             "ticks": ""
            },
            "colorscale": [
             [
              0,
              "#0d0887"
             ],
             [
              0.1111111111111111,
              "#46039f"
             ],
             [
              0.2222222222222222,
              "#7201a8"
             ],
             [
              0.3333333333333333,
              "#9c179e"
             ],
             [
              0.4444444444444444,
              "#bd3786"
             ],
             [
              0.5555555555555556,
              "#d8576b"
             ],
             [
              0.6666666666666666,
              "#ed7953"
             ],
             [
              0.7777777777777778,
              "#fb9f3a"
             ],
             [
              0.8888888888888888,
              "#fdca26"
             ],
             [
              1,
              "#f0f921"
             ]
            ],
            "type": "surface"
           }
          ],
          "table": [
           {
            "cells": {
             "fill": {
              "color": "#EBF0F8"
             },
             "line": {
              "color": "white"
             }
            },
            "header": {
             "fill": {
              "color": "#C8D4E3"
             },
             "line": {
              "color": "white"
             }
            },
            "type": "table"
           }
          ]
         },
         "layout": {
          "annotationdefaults": {
           "arrowcolor": "#2a3f5f",
           "arrowhead": 0,
           "arrowwidth": 1
          },
          "autotypenumbers": "strict",
          "coloraxis": {
           "colorbar": {
            "outlinewidth": 0,
            "ticks": ""
           }
          },
          "colorscale": {
           "diverging": [
            [
             0,
             "#8e0152"
            ],
            [
             0.1,
             "#c51b7d"
            ],
            [
             0.2,
             "#de77ae"
            ],
            [
             0.3,
             "#f1b6da"
            ],
            [
             0.4,
             "#fde0ef"
            ],
            [
             0.5,
             "#f7f7f7"
            ],
            [
             0.6,
             "#e6f5d0"
            ],
            [
             0.7,
             "#b8e186"
            ],
            [
             0.8,
             "#7fbc41"
            ],
            [
             0.9,
             "#4d9221"
            ],
            [
             1,
             "#276419"
            ]
           ],
           "sequential": [
            [
             0,
             "#0d0887"
            ],
            [
             0.1111111111111111,
             "#46039f"
            ],
            [
             0.2222222222222222,
             "#7201a8"
            ],
            [
             0.3333333333333333,
             "#9c179e"
            ],
            [
             0.4444444444444444,
             "#bd3786"
            ],
            [
             0.5555555555555556,
             "#d8576b"
            ],
            [
             0.6666666666666666,
             "#ed7953"
            ],
            [
             0.7777777777777778,
             "#fb9f3a"
            ],
            [
             0.8888888888888888,
             "#fdca26"
            ],
            [
             1,
             "#f0f921"
            ]
           ],
           "sequentialminus": [
            [
             0,
             "#0d0887"
            ],
            [
             0.1111111111111111,
             "#46039f"
            ],
            [
             0.2222222222222222,
             "#7201a8"
            ],
            [
             0.3333333333333333,
             "#9c179e"
            ],
            [
             0.4444444444444444,
             "#bd3786"
            ],
            [
             0.5555555555555556,
             "#d8576b"
            ],
            [
             0.6666666666666666,
             "#ed7953"
            ],
            [
             0.7777777777777778,
             "#fb9f3a"
            ],
            [
             0.8888888888888888,
             "#fdca26"
            ],
            [
             1,
             "#f0f921"
            ]
           ]
          },
          "colorway": [
           "#636efa",
           "#EF553B",
           "#00cc96",
           "#ab63fa",
           "#FFA15A",
           "#19d3f3",
           "#FF6692",
           "#B6E880",
           "#FF97FF",
           "#FECB52"
          ],
          "font": {
           "color": "#2a3f5f"
          },
          "geo": {
           "bgcolor": "white",
           "lakecolor": "white",
           "landcolor": "#E5ECF6",
           "showlakes": true,
           "showland": true,
           "subunitcolor": "white"
          },
          "hoverlabel": {
           "align": "left"
          },
          "hovermode": "closest",
          "mapbox": {
           "style": "light"
          },
          "paper_bgcolor": "white",
          "plot_bgcolor": "#E5ECF6",
          "polar": {
           "angularaxis": {
            "gridcolor": "white",
            "linecolor": "white",
            "ticks": ""
           },
           "bgcolor": "#E5ECF6",
           "radialaxis": {
            "gridcolor": "white",
            "linecolor": "white",
            "ticks": ""
           }
          },
          "scene": {
           "xaxis": {
            "backgroundcolor": "#E5ECF6",
            "gridcolor": "white",
            "gridwidth": 2,
            "linecolor": "white",
            "showbackground": true,
            "ticks": "",
            "zerolinecolor": "white"
           },
           "yaxis": {
            "backgroundcolor": "#E5ECF6",
            "gridcolor": "white",
            "gridwidth": 2,
            "linecolor": "white",
            "showbackground": true,
            "ticks": "",
            "zerolinecolor": "white"
           },
           "zaxis": {
            "backgroundcolor": "#E5ECF6",
            "gridcolor": "white",
            "gridwidth": 2,
            "linecolor": "white",
            "showbackground": true,
            "ticks": "",
            "zerolinecolor": "white"
           }
          },
          "shapedefaults": {
           "line": {
            "color": "#2a3f5f"
           }
          },
          "ternary": {
           "aaxis": {
            "gridcolor": "white",
            "linecolor": "white",
            "ticks": ""
           },
           "baxis": {
            "gridcolor": "white",
            "linecolor": "white",
            "ticks": ""
           },
           "bgcolor": "#E5ECF6",
           "caxis": {
            "gridcolor": "white",
            "linecolor": "white",
            "ticks": ""
           }
          },
          "title": {
           "x": 0.05
          },
          "xaxis": {
           "automargin": true,
           "gridcolor": "white",
           "linecolor": "white",
           "ticks": "",
           "title": {
            "standoff": 15
           },
           "zerolinecolor": "white",
           "zerolinewidth": 2
          },
          "yaxis": {
           "automargin": true,
           "gridcolor": "white",
           "linecolor": "white",
           "ticks": "",
           "title": {
            "standoff": 15
           },
           "zerolinecolor": "white",
           "zerolinewidth": 2
          }
         }
        },
        "title": {
         "text": "Матрица корреляций"
        },
        "xaxis": {
         "anchor": "y",
         "autorange": true,
         "domain": [
          0,
          1
         ],
         "range": [
          -0.5,
          15.5
         ],
         "type": "category"
        },
        "yaxis": {
         "anchor": "x",
         "autorange": true,
         "domain": [
          0,
          1
         ],
         "range": [
          15.5,
          -0.5
         ],
         "type": "category"
        }
       }
      },
      "image/png": "[encoded data removed]",
      "text/html": [
       "<div>                            <div id=\"2917eb7c-c2c8-4622-aa65-ab4f179f7664\" class=\"plotly-graph-div\" style=\"height:525px; width:100%;\"></div>            <script type=\"text/javascript\">                require([\"plotly\"], function(Plotly) {                    window.PLOTLYENV=window.PLOTLYENV || {};                                    if (document.getElementById(\"2917eb7c-c2c8-4622-aa65-ab4f179f7664\")) {                    Plotly.newPlot(                        \"2917eb7c-c2c8-4622-aa65-ab4f179f7664\",                        [{\"coloraxis\":\"coloraxis\",\"name\":\"0\",\"texttemplate\":\"%{z}\",\"x\":[\"link_count\",\"a_count\",\"width_min\",\"font-size_min\",\"total_text_length\",\"rotate_mean\",\"avg_text_per_entity\",\"font-size_mean\",\"font-size_max\",\"line-height_mean\",\"rotate_max\",\"total_tags\",\"height_mean\",\"span_count\",\"height_max\",\"label\"],\"y\":[\"link_count\",\"a_count\",\"width_min\",\"font-size_min\",\"total_text_length\",\"rotate_mean\",\"avg_text_per_entity\",\"font-size_mean\",\"font-size_max\",\"line-height_mean\",\"rotate_max\",\"total_tags\",\"height_mean\",\"span_count\",\"height_max\",\"label\"],\"z\":[[1.0,1.0,-0.30492602813233666,-0.17592247602820577,0.8316344743758664,0.20382772735543742,0.4387472893676261,-0.19885306786746496,-0.25184110174843405,-0.2900513088136557,0.27890791068476656,0.8252474880499717,-0.1106363092447538,0.8084454308100186,0.09410329591135168,-0.5654140912898757],[1.0,1.0,-0.30492602813233666,-0.17592247602820577,0.8316344743758664,0.20382772735543742,0.4387472893676261,-0.19885306786746496,-0.25184110174843405,-0.2900513088136557,0.27890791068476656,0.8252474880499717,-0.1106363092447538,0.8084454308100186,0.09410329591135168,-0.5654140912898757],[-0.30492602813233666,-0.30492602813233666,1.0,0.1077972894054936,-0.1777424078323537,-0.09201782759327162,0.17164988399917844,0.14208913210746865,0.21330635121485733,0.14956156687336164,-0.1753120701093341,-0.30349661754746615,0.11140786590945763,-0.18772387292742027,-0.060511660918507196,0.35813840188294715],[-0.17592247602820577,-0.17592247602820577,0.1077972894054936,1.0,-0.09708542714891139,-0.1124327825357524,-0.027726897476234334,0.9809809899234523,0.9248583090394124,0.0015628785755883634,-0.09103005470975865,-0.1700274045314035,0.3525939412887181,-0.1322639900906629,0.2082228790009137,0.06643750415885814],[0.8316344743758664,0.8316344743758664,-0.1777424078323537,-0.09708542714891139,1.0,0.14380622753923628,0.6634815902956384,-0.12658668801365966,-0.151061131127378,-0.2366611905791047,0.14104572201667312,0.8690024012570323,-0.15836089089569408,0.9499862205469997,0.025005064959523555,-0.4567914189165392],[0.20382772735543742,0.20382772735543742,-0.09201782759327162,-0.1124327825357524,0.14380622753923628,1.0,0.279429766765757,-0.11724409400058045,-0.12263621182185507,-0.23514384793471765,0.9215409801685525,0.0653276945175854,0.1638703013939969,0.18768990500144117,0.2517319573181782,-0.4583797454533451],[0.4387472893676261,0.4387472893676261,0.17164988399917844,-0.027726897476234334,0.6634815902956384,0.279429766765757,1.0,-0.05985050377227505,-0.06758968663360294,-0.23245724968486256,0.21043196093251704,0.37034823059845184,0.11468145651156494,0.6028236019517847,0.0823647484340038,-0.410762436103238],[-0.19885306786746496,-0.19885306786746496,0.14208913210746865,0.9809809899234523,-0.12658668801365966,-0.11724409400058045,-0.05985050377227505,1.0,0.9739897307838765,0.05620522272270105,-0.0942016273553535,-0.19458972300208988,0.33679854012689586,-0.15467938406999468,0.19384190676727178,0.11522134771379611],[-0.25184110174843405,-0.25184110174843405,0.21330635121485733,0.9248583090394124,-0.151061131127378,-0.12263621182185507,-0.06758968663360294,0.9739897307838765,1.0,0.14793387103502373,-0.11529566593478685,-0.2197118663309096,0.3101267062904131,-0.17409171962259623,0.17143991169111972,0.2160975170322593],[-0.2900513088136557,-0.2900513088136557,0.14956156687336164,0.0015628785755883634,-0.2366611905791047,-0.23514384793471765,-0.23245724968486256,0.05620522272270105,0.14793387103502373,1.0,-0.25220098902918975,-0.1312640853180191,-0.009980882097056316,-0.20710543383229757,-0.027701256643962075,0.5129891760425768],[0.27890791068476656,0.27890791068476656,-0.1753120701093341,-0.09103005470975865,0.14104572201667312,0.9215409801685525,0.21043196093251704,-0.0942016273553535,-0.11529566593478685,-0.25220098902918975,1.0,0.10067391357860392,0.17346951437726962,0.1810261120888025,0.2939332624715276,-0.4916302347249873],[0.8252474880499717,0.8252474880499717,-0.30349661754746615,-0.1700274045314035,0.8690024012570323,0.0653276945175854,0.37034823059845184,-0.19458972300208988,-0.2197118663309096,-0.1312640853180191,0.10067391357860392,1.0,-0.19454244679733465,0.9072178832172554,0.007631037488397003,-0.38492860287271485],[-0.1106363092447538,-0.1106363092447538,0.11140786590945763,0.3525939412887181,-0.15836089089569408,0.1638703013939969,0.11468145651156494,0.33679854012689586,0.3101267062904131,-0.009980882097056316,0.17346951437726962,-0.19454244679733465,1.0,-0.12027984756291368,0.7929966465819089,0.03535836991820556],[0.8084454308100186,0.8084454308100186,-0.18772387292742027,-0.1322639900906629,0.9499862205469997,0.18768990500144117,0.6028236019517847,-0.15467938406999468,-0.17409171962259623,-0.20710543383229757,0.1810261120888025,0.9072178832172554,-0.12027984756291368,1.0,0.017554797841577485,-0.44372064787217436],[0.09410329591135168,0.09410329591135168,-0.060511660918507196,0.2082228790009137,0.025005064959523555,0.2517319573181782,0.0823647484340038,0.19384190676727178,0.17143991169111972,-0.027701256643962075,0.2939332624715276,0.007631037488397003,0.7929966465819089,0.017554797841577485,1.0,-0.08064002384091004],[-0.5654140912898757,-0.5654140912898757,0.35813840188294715,0.06643750415885814,-0.4567914189165392,-0.4583797454533451,-0.410762436103238,0.11522134771379611,0.2160975170322593,0.5129891760425768,-0.4916302347249873,-0.38492860287271485,0.03535836991820556,-0.44372064787217436,-0.08064002384091004,1.0]],\"type\":\"heatmap\",\"xaxis\":\"x\",\"yaxis\":\"y\",\"hovertemplate\":\"x: %{x}\\u003cbr\\u003ey: %{y}\\u003cbr\\u003ecolor: %{z}\\u003cextra\\u003e\\u003c\\u002fextra\\u003e\"}],                        {\"template\":{\"data\":{\"histogram2dcontour\":[{\"type\":\"histogram2dcontour\",\"colorbar\":{\"outlinewidth\":0,\"ticks\":\"\"},\"colorscale\":[[0.0,\"#0d0887\"],[0.1111111111111111,\"#46039f\"],[0.2222222222222222,\"#7201a8\"],[0.3333333333333333,\"#9c179e\"],[0.4444444444444444,\"#bd3786\"],[0.5555555555555556,\"#d8576b\"],[0.6666666666666666,\"#ed7953\"],[0.7777777777777778,\"#fb9f3a\"],[0.8888888888888888,\"#fdca26\"],[1.0,\"#f0f921\"]]}],\"choropleth\":[{\"type\":\"choropleth\",\"colorbar\":{\"outlinewidth\":0,\"ticks\":\"\"}}],\"histogram2d\":[{\"type\":\"histogram2d\",\"colorbar\":{\"outlinewidth\":0,\"ticks\":\"\"},\"colorscale\":[[0.0,\"#0d0887\"],[0.1111111111111111,\"#46039f\"],[0.2222222222222222,\"#7201a8\"],[0.3333333333333333,\"#9c179e\"],[0.4444444444444444,\"#bd3786\"],[0.5555555555555556,\"#d8576b\"],[0.6666666666666666,\"#ed7953\"],[0.7777777777777778,\"#fb9f3a\"],[0.8888888888888888,\"#fdca26\"],[1.0,\"#f0f921\"]]}],\"heatmap\":[{\"type\":\"heatmap\",\"colorbar\":{\"outlinewidth\":0,\"ticks\":\"\"},\"colorscale\":[[0.0,\"#0d0887\"],[0.1111111111111111,\"#46039f\"],[0.2222222222222222,\"#7201a8\"],[0.3333333333333333,\"#9c179e\"],[0.4444444444444444,\"#bd3786\"],[0.5555555555555556,\"#d8576b\"],[0.6666666666666666,\"#ed7953\"],[0.7777777777777778,\"#fb9f3a\"],[0.8888888888888888,\"#fdca26\"],[1.0,\"#f0f921\"]]}],\"heatmapgl\":[{\"type\":\"heatmapgl\",\"colorbar\":{\"outlinewidth\":0,\"ticks\":\"\"},\"colorscale\":[[0.0,\"#0d0887\"],[0.1111111111111111,\"#46039f\"],[0.2222222222222222,\"#7201a8\"],[0.3333333333333333,\"#9c179e\"],[0.4444444444444444,\"#bd3786\"],[0.5555555555555556,\"#d8576b\"],[0.6666666666666666,\"#ed7953\"],[0.7777777777777778,\"#fb9f3a\"],[0.8888888888888888,\"#fdca26\"],[1.0,\"#f0f921\"]]}],\"contourcarpet\":[{\"type\":\"contourcarpet\",\"colorbar\":{\"outlinewidth\":0,\"ticks\":\"\"}}],\"contour\":[{\"type\":\"contour\",\"colorbar\":{\"outlinewidth\":0,\"ticks\":\"\"},\"colorscale\":[[0.0,\"#0d0887\"],[0.1111111111111111,\"#46039f\"],[0.2222222222222222,\"#7201a8\"],[0.3333333333333333,\"#9c179e\"],[0.4444444444444444,\"#bd3786\"],[0.5555555555555556,\"#d8576b\"],[0.6666666666666666,\"#ed7953\"],[0.7777777777777778,\"#fb9f3a\"],[0.8888888888888888,\"#fdca26\"],[1.0,\"#f0f921\"]]}],\"surface\":[{\"type\":\"surface\",\"colorbar\":{\"outlinewidth\":0,\"ticks\":\"\"},\"colorscale\":[[0.0,\"#0d0887\"],[0.1111111111111111,\"#46039f\"],[0.2222222222222222,\"#7201a8\"],[0.3333333333333333,\"#9c179e\"],[0.4444444444444444,\"#bd3786\"],[0.5555555555555556,\"#d8576b\"],[0.6666666666666666,\"#ed7953\"],[0.7777777777777778,\"#fb9f3a\"],[0.8888888888888888,\"#fdca26\"],[1.0,\"#f0f921\"]]}],\"mesh3d\":[{\"type\":\"mesh3d\",\"colorbar\":{\"outlinewidth\":0,\"ticks\":\"\"}}],\"scatter\":[{\"fillpattern\":{\"fillmode\":\"overlay\",\"size\":10,\"solidity\":0.2},\"type\":\"scatter\"}],\"parcoords\":[{\"type\":\"parcoords\",\"line\":{\"colorbar\":{\"outlinewidth\":0,\"ticks\":\"\"}}}],\"scatterpolargl\":[{\"type\":\"scatterpolargl\",\"marker\":{\"colorbar\":{\"outlinewidth\":0,\"ticks\":\"\"}}}],\"bar\":[{\"error_x\":{\"color\":\"#2a3f5f\"},\"error_y\":{\"color\":\"#2a3f5f\"},\"marker\":{\"line\":{\"color\":\"#E5ECF6\",\"width\":0.5},\"pattern\":{\"fillmode\":\"overlay\",\"size\":10,\"solidity\":0.2}},\"type\":\"bar\"}],\"scattergeo\":[{\"type\":\"scattergeo\",\"marker\":{\"colorbar\":{\"outlinewidth\":0,\"ticks\":\"\"}}}],\"scatterpolar\":[{\"type\":\"scatterpolar\",\"marker\":{\"colorbar\":{\"outlinewidth\":0,\"ticks\":\"\"}}}],\"histogram\":[{\"marker\":{\"pattern\":{\"fillmode\":\"overlay\",\"size\":10,\"solidity\":0.2}},\"type\":\"histogram\"}],\"scattergl\":[{\"type\":\"scattergl\",\"marker\":{\"colorbar\":{\"outlinewidth\":0,\"ticks\":\"\"}}}],\"scatter3d\":[{\"type\":\"scatter3d\",\"line\":{\"colorbar\":{\"outlinewidth\":0,\"ticks\":\"\"}},\"marker\":{\"colorbar\":{\"outlinewidth\":0,\"ticks\":\"\"}}}],\"scattermapbox\":[{\"type\":\"scattermapbox\",\"marker\":{\"colorbar\":{\"outlinewidth\":0,\"ticks\":\"\"}}}],\"scatterternary\":[{\"type\":\"scatterternary\",\"marker\":{\"colorbar\":{\"outlinewidth\":0,\"ticks\":\"\"}}}],\"scattercarpet\":[{\"type\":\"scattercarpet\",\"marker\":{\"colorbar\":{\"outlinewidth\":0,\"ticks\":\"\"}}}],\"carpet\":[{\"aaxis\":{\"endlinecolor\":\"#2a3f5f\",\"gridcolor\":\"white\",\"linecolor\":\"white\",\"minorgridcolor\":\"white\",\"startlinecolor\":\"#2a3f5f\"},\"baxis\":{\"endlinecolor\":\"#2a3f5f\",\"gridcolor\":\"white\",\"linecolor\":\"white\",\"minorgridcolor\":\"white\",\"startlinecolor\":\"#2a3f5f\"},\"type\":\"carpet\"}],\"table\":[{\"cells\":{\"fill\":{\"color\":\"#EBF0F8\"},\"line\":{\"color\":\"white\"}},\"header\":{\"fill\":{\"color\":\"#C8D4E3\"},\"line\":{\"color\":\"white\"}},\"type\":\"table\"}],\"barpolar\":[{\"marker\":{\"line\":{\"color\":\"#E5ECF6\",\"width\":0.5},\"pattern\":{\"fillmode\":\"overlay\",\"size\":10,\"solidity\":0.2}},\"type\":\"barpolar\"}],\"pie\":[{\"automargin\":true,\"type\":\"pie\"}]},\"layout\":{\"autotypenumbers\":\"strict\",\"colorway\":[\"#636efa\",\"#EF553B\",\"#00cc96\",\"#ab63fa\",\"#FFA15A\",\"#19d3f3\",\"#FF6692\",\"#B6E880\",\"#FF97FF\",\"#FECB52\"],\"font\":{\"color\":\"#2a3f5f\"},\"hovermode\":\"closest\",\"hoverlabel\":{\"align\":\"left\"},\"paper_bgcolor\":\"white\",\"plot_bgcolor\":\"#E5ECF6\",\"polar\":{\"bgcolor\":\"#E5ECF6\",\"angularaxis\":{\"gridcolor\":\"white\",\"linecolor\":\"white\",\"ticks\":\"\"},\"radialaxis\":{\"gridcolor\":\"white\",\"linecolor\":\"white\",\"ticks\":\"\"}},\"ternary\":{\"bgcolor\":\"#E5ECF6\",\"aaxis\":{\"gridcolor\":\"white\",\"linecolor\":\"white\",\"ticks\":\"\"},\"baxis\":{\"gridcolor\":\"white\",\"linecolor\":\"white\",\"ticks\":\"\"},\"caxis\":{\"gridcolor\":\"white\",\"linecolor\":\"white\",\"ticks\":\"\"}},\"coloraxis\":{\"colorbar\":{\"outlinewidth\":0,\"ticks\":\"\"}},\"colorscale\":{\"sequential\":[[0.0,\"#0d0887\"],[0.1111111111111111,\"#46039f\"],[0.2222222222222222,\"#7201a8\"],[0.3333333333333333,\"#9c179e\"],[0.4444444444444444,\"#bd3786\"],[0.5555555555555556,\"#d8576b\"],[0.6666666666666666,\"#ed7953\"],[0.7777777777777778,\"#fb9f3a\"],[0.8888888888888888,\"#fdca26\"],[1.0,\"#f0f921\"]],\"sequentialminus\":[[0.0,\"#0d0887\"],[0.1111111111111111,\"#46039f\"],[0.2222222222222222,\"#7201a8\"],[0.3333333333333333,\"#9c179e\"],[0.4444444444444444,\"#bd3786\"],[0.5555555555555556,\"#d8576b\"],[0.6666666666666666,\"#ed7953\"],[0.7777777777777778,\"#fb9f3a\"],[0.8888888888888888,\"#fdca26\"],[1.0,\"#f0f921\"]],\"diverging\":[[0,\"#8e0152\"],[0.1,\"#c51b7d\"],[0.2,\"#de77ae\"],[0.3,\"#f1b6da\"],[0.4,\"#fde0ef\"],[0.5,\"#f7f7f7\"],[0.6,\"#e6f5d0\"],[0.7,\"#b8e186\"],[0.8,\"#7fbc41\"],[0.9,\"#4d9221\"],[1,\"#276419\"]]},\"xaxis\":{\"gridcolor\":\"white\",\"linecolor\":\"white\",\"ticks\":\"\",\"title\":{\"standoff\":15},\"zerolinecolor\":\"white\",\"automargin\":true,\"zerolinewidth\":2},\"yaxis\":{\"gridcolor\":\"white\",\"linecolor\":\"white\",\"ticks\":\"\",\"title\":{\"standoff\":15},\"zerolinecolor\":\"white\",\"automargin\":true,\"zerolinewidth\":2},\"scene\":{\"xaxis\":{\"backgroundcolor\":\"#E5ECF6\",\"gridcolor\":\"white\",\"linecolor\":\"white\",\"showbackground\":true,\"ticks\":\"\",\"zerolinecolor\":\"white\",\"gridwidth\":2},\"yaxis\":{\"backgroundcolor\":\"#E5ECF6\",\"gridcolor\":\"white\",\"linecolor\":\"white\",\"showbackground\":true,\"ticks\":\"\",\"zerolinecolor\":\"white\",\"gridwidth\":2},\"zaxis\":{\"backgroundcolor\":\"#E5ECF6\",\"gridcolor\":\"white\",\"linecolor\":\"white\",\"showbackground\":true,\"ticks\":\"\",\"zerolinecolor\":\"white\",\"gridwidth\":2}},\"shapedefaults\":{\"line\":{\"color\":\"#2a3f5f\"}},\"annotationdefaults\":{\"arrowcolor\":\"#2a3f5f\",\"arrowhead\":0,\"arrowwidth\":1},\"geo\":{\"bgcolor\":\"white\",\"landcolor\":\"#E5ECF6\",\"subunitcolor\":\"white\",\"showland\":true,\"showlakes\":true,\"lakecolor\":\"white\"},\"title\":{\"x\":0.05},\"mapbox\":{\"style\":\"light\"}}},\"xaxis\":{\"anchor\":\"y\",\"domain\":[0.0,1.0]},\"yaxis\":{\"anchor\":\"x\",\"domain\":[0.0,1.0],\"autorange\":\"reversed\"},\"coloraxis\":{\"colorscale\":[[0.0,\"rgb(5,48,97)\"],[0.1,\"rgb(33,102,172)\"],[0.2,\"rgb(67,147,195)\"],[0.3,\"rgb(146,197,222)\"],[0.4,\"rgb(209,229,240)\"],[0.5,\"rgb(247,247,247)\"],[0.6,\"rgb(253,219,199)\"],[0.7,\"rgb(244,165,130)\"],[0.8,\"rgb(214,96,77)\"],[0.9,\"rgb(178,24,43)\"],[1.0,\"rgb(103,0,31)\"]]},\"title\":{\"text\":\"\\u041c\\u0430\\u0442\\u0440\\u0438\\u0446\\u0430 \\u043a\\u043e\\u0440\\u0440\\u0435\\u043b\\u044f\\u0446\\u0438\\u0439\"}},                        {\"responsive\": true}                    ).then(function(){\n",
       "                            \n",
       "var gd = document.getElementById('2917eb7c-c2c8-4622-aa65-ab4f179f7664');\n",
       "var x = new MutationObserver(function (mutations, observer) {{\n",
       "        var display = window.getComputedStyle(gd).display;\n",
       "        if (!display || display === 'none') {{\n",
       "            console.log([gd, 'removed!']);\n",
       "            Plotly.purge(gd);\n",
       "            observer.disconnect();\n",
       "        }}\n",
       "}});\n",
       "\n",
       "// Listen for the removal of the full notebook cells\n",
       "var notebookContainer = gd.closest('#notebook-container');\n",
       "if (notebookContainer) {{\n",
       "    x.observe(notebookContainer, {childList: true});\n",
       "}}\n",
       "\n",
       "// Listen for the clearing of the current output cell\n",
       "var outputEl = gd.closest('.output');\n",
       "if (outputEl) {{\n",
       "    x.observe(outputEl, {childList: true});\n",
       "}}\n",
       "\n",
       "                        })                };                });            </script>        </div>"
      ]
     },
     "metadata": {},
     "output_type": "display_data"
    }
   ],
   "source": [
    "corr_matrix = df.corr()\n",
    "\n",
    "# Создаем тепловую карту\n",
    "fig = px.imshow(corr_matrix,\n",
    "                text_auto=True,\n",
    "                aspect=\"auto\",\n",
    "                color_continuous_scale='RdBu_r',\n",
    "                title='Матрица корреляций')\n",
    "fig.show()"
   ]
  },
  {
   "cell_type": "markdown",
   "id": "b2e52771-a9fa-4e1a-a0f3-7dbad15cd3e6",
   "metadata": {},
   "source": [
    "Эти признаки (a_count, font-size_min, font-size_max, span_count, avg_text_per_entity, height_max, total_tags, rotate_max) демонстрируют значительную степень взаимной корреляции и частично дублируют информацию, содержащуюся в других переменных датасета. В частности, некоторые из них являются частными случаями более общих характеристик страницы (например, span_count входит в состав total_tags, а font-size_min и font-size_max отражают схожие аспекты размеров текста), что приводит к избыточности признакового пространства. Вследствие этого для повышения качества модели и снижения риска мультиколлинеарности эти признаки были исключены из анализа."
   ]
  },
  {
   "cell_type": "code",
   "execution_count": 91,
   "id": "1b45f5c7-e53e-454a-865a-7c35e9b9ec89",
   "metadata": {},
   "outputs": [],
   "source": [
    "# Список столбцов, которые считаем дублирующими\n",
    "duplicates = ['a_count', 'font-size_min', 'font-size_max', 'span_count', 'avg_text_per_entity', 'height_max', 'total_tags', 'rotate_max']\n",
    "\n",
    "# Убираем их из DataFrame\n",
    "df_clean = df.drop(columns=duplicates)\n",
    "df = df_clean"
   ]
  },
  {
   "cell_type": "code",
   "execution_count": 92,
   "id": "214cb6e3-56b1-4e3e-b1fc-4837aefcc43d",
   "metadata": {},
   "outputs": [
    {
     "data": {
      "application/vnd.plotly.v1+json": {
       "config": {
        "plotlyServerURL": "https://plot.ly"
       },
       "data": [
        {
         "coloraxis": "coloraxis",
         "hovertemplate": "x: %{x}<br>y: %{y}<br>color: %{z}<extra></extra>",
         "name": "0",
         "texttemplate": "%{z}",
         "type": "heatmap",
         "x": [
          "link_count",
          "width_min",
          "total_text_length",
          "rotate_mean",
          "font-size_mean",
          "line-height_mean",
          "height_mean",
          "label"
         ],
         "xaxis": "x",
         "y": [
          "link_count",
          "width_min",
          "total_text_length",
          "rotate_mean",
          "font-size_mean",
          "line-height_mean",
          "height_mean",
          "label"
         ],
         "yaxis": "y",
         "z": [
          [
           1,
           -0.30492602813233666,
           0.8316344743758664,
           0.20382772735543742,
           -0.19885306786746496,
           -0.2900513088136557,
           -0.1106363092447538,
           -0.5654140912898757
          ],
          [
           -0.30492602813233666,
           1,
           -0.1777424078323537,
           -0.09201782759327162,
           0.14208913210746865,
           0.14956156687336164,
           0.11140786590945763,
           0.35813840188294715
          ],
          [
           0.8316344743758664,
           -0.1777424078323537,
           1,
           0.14380622753923628,
           -0.12658668801365966,
           -0.2366611905791047,
           -0.15836089089569408,
           -0.4567914189165392
          ],
          [
           0.20382772735543742,
           -0.09201782759327162,
           0.14380622753923628,
           1,
           -0.11724409400058045,
           -0.23514384793471765,
           0.1638703013939969,
           -0.4583797454533451
          ],
          [
           -0.19885306786746496,
           0.14208913210746865,
           -0.12658668801365966,
           -0.11724409400058045,
           1,
           0.05620522272270105,
           0.33679854012689586,
           0.11522134771379611
          ],
          [
           -0.2900513088136557,
           0.14956156687336164,
           -0.2366611905791047,
           -0.23514384793471765,
           0.05620522272270105,
           1,
           -0.009980882097056316,
           0.5129891760425768
          ],
          [
           -0.1106363092447538,
           0.11140786590945763,
           -0.15836089089569408,
           0.1638703013939969,
           0.33679854012689586,
           -0.009980882097056316,
           1,
           0.03535836991820556
          ],
          [
           -0.5654140912898757,
           0.35813840188294715,
           -0.4567914189165392,
           -0.4583797454533451,
           0.11522134771379611,
           0.5129891760425768,
           0.03535836991820556,
           1
          ]
         ]
        }
       ],
       "layout": {
        "autosize": true,
        "coloraxis": {
         "colorscale": [
          [
           0,
           "rgb(5,48,97)"
          ],
          [
           0.1,
           "rgb(33,102,172)"
          ],
          [
           0.2,
           "rgb(67,147,195)"
          ],
          [
           0.3,
           "rgb(146,197,222)"
          ],
          [
           0.4,
           "rgb(209,229,240)"
          ],
          [
           0.5,
           "rgb(247,247,247)"
          ],
          [
           0.6,
           "rgb(253,219,199)"
          ],
          [
           0.7,
           "rgb(244,165,130)"
          ],
          [
           0.8,
           "rgb(214,96,77)"
          ],
          [
           0.9,
           "rgb(178,24,43)"
          ],
          [
           1,
           "rgb(103,0,31)"
          ]
         ]
        },
        "template": {
         "data": {
          "bar": [
           {
            "error_x": {
             "color": "#2a3f5f"
            },
            "error_y": {
             "color": "#2a3f5f"
            },
            "marker": {
             "line": {
              "color": "#E5ECF6",
              "width": 0.5
             },
             "pattern": {
              "fillmode": "overlay",
              "size": 10,
              "solidity": 0.2
             }
            },
            "type": "bar"
           }
          ],
          "barpolar": [
           {
            "marker": {
             "line": {
              "color": "#E5ECF6",
              "width": 0.5
             },
             "pattern": {
              "fillmode": "overlay",
              "size": 10,
              "solidity": 0.2
             }
            },
            "type": "barpolar"
           }
          ],
          "carpet": [
           {
            "aaxis": {
             "endlinecolor": "#2a3f5f",
             "gridcolor": "white",
             "linecolor": "white",
             "minorgridcolor": "white",
             "startlinecolor": "#2a3f5f"
            },
            "baxis": {
             "endlinecolor": "#2a3f5f",
             "gridcolor": "white",
             "linecolor": "white",
             "minorgridcolor": "white",
             "startlinecolor": "#2a3f5f"
            },
            "type": "carpet"
           }
          ],
          "choropleth": [
           {
            "colorbar": {
             "outlinewidth": 0,
             "ticks": ""
            },
            "type": "choropleth"
           }
          ],
          "contour": [
           {
            "colorbar": {
             "outlinewidth": 0,
             "ticks": ""
            },
            "colorscale": [
             [
              0,
              "#0d0887"
             ],
             [
              0.1111111111111111,
              "#46039f"
             ],
             [
              0.2222222222222222,
              "#7201a8"
             ],
             [
              0.3333333333333333,
              "#9c179e"
             ],
             [
              0.4444444444444444,
              "#bd3786"
             ],
             [
              0.5555555555555556,
              "#d8576b"
             ],
             [
              0.6666666666666666,
              "#ed7953"
             ],
             [
              0.7777777777777778,
              "#fb9f3a"
             ],
             [
              0.8888888888888888,
              "#fdca26"
             ],
             [
              1,
              "#f0f921"
             ]
            ],
            "type": "contour"
           }
          ],
          "contourcarpet": [
           {
            "colorbar": {
             "outlinewidth": 0,
             "ticks": ""
            },
            "type": "contourcarpet"
           }
          ],
          "heatmap": [
           {
            "colorbar": {
             "outlinewidth": 0,
             "ticks": ""
            },
            "colorscale": [
             [
              0,
              "#0d0887"
             ],
             [
              0.1111111111111111,
              "#46039f"
             ],
             [
              0.2222222222222222,
              "#7201a8"
             ],
             [
              0.3333333333333333,
              "#9c179e"
             ],
             [
              0.4444444444444444,
              "#bd3786"
             ],
             [
              0.5555555555555556,
              "#d8576b"
             ],
             [
              0.6666666666666666,
              "#ed7953"
             ],
             [
              0.7777777777777778,
              "#fb9f3a"
             ],
             [
              0.8888888888888888,
              "#fdca26"
             ],
             [
              1,
              "#f0f921"
             ]
            ],
            "type": "heatmap"
           }
          ],
          "heatmapgl": [
           {
            "colorbar": {
             "outlinewidth": 0,
             "ticks": ""
            },
            "colorscale": [
             [
              0,
              "#0d0887"
             ],
             [
              0.1111111111111111,
              "#46039f"
             ],
             [
              0.2222222222222222,
              "#7201a8"
             ],
             [
              0.3333333333333333,
              "#9c179e"
             ],
             [
              0.4444444444444444,
              "#bd3786"
             ],
             [
              0.5555555555555556,
              "#d8576b"
             ],
             [
              0.6666666666666666,
              "#ed7953"
             ],
             [
              0.7777777777777778,
              "#fb9f3a"
             ],
             [
              0.8888888888888888,
              "#fdca26"
             ],
             [
              1,
              "#f0f921"
             ]
            ],
            "type": "heatmapgl"
           }
          ],
          "histogram": [
           {
            "marker": {
             "pattern": {
              "fillmode": "overlay",
              "size": 10,
              "solidity": 0.2
             }
            },
            "type": "histogram"
           }
          ],
          "histogram2d": [
           {
            "colorbar": {
             "outlinewidth": 0,
             "ticks": ""
            },
            "colorscale": [
             [
              0,
              "#0d0887"
             ],
             [
              0.1111111111111111,
              "#46039f"
             ],
             [
              0.2222222222222222,
              "#7201a8"
             ],
             [
              0.3333333333333333,
              "#9c179e"
             ],
             [
              0.4444444444444444,
              "#bd3786"
             ],
             [
              0.5555555555555556,
              "#d8576b"
             ],
             [
              0.6666666666666666,
              "#ed7953"
             ],
             [
              0.7777777777777778,
              "#fb9f3a"
             ],
             [
              0.8888888888888888,
              "#fdca26"
             ],
             [
              1,
              "#f0f921"
             ]
            ],
            "type": "histogram2d"
           }
          ],
          "histogram2dcontour": [
           {
            "colorbar": {
             "outlinewidth": 0,
             "ticks": ""
            },
            "colorscale": [
             [
              0,
              "#0d0887"
             ],
             [
              0.1111111111111111,
              "#46039f"
             ],
             [
              0.2222222222222222,
              "#7201a8"
             ],
             [
              0.3333333333333333,
              "#9c179e"
             ],
             [
              0.4444444444444444,
              "#bd3786"
             ],
             [
              0.5555555555555556,
              "#d8576b"
             ],
             [
              0.6666666666666666,
              "#ed7953"
             ],
             [
              0.7777777777777778,
              "#fb9f3a"
             ],
             [
              0.8888888888888888,
              "#fdca26"
             ],
             [
              1,
              "#f0f921"
             ]
            ],
            "type": "histogram2dcontour"
           }
          ],
          "mesh3d": [
           {
            "colorbar": {
             "outlinewidth": 0,
             "ticks": ""
            },
            "type": "mesh3d"
           }
          ],
          "parcoords": [
           {
            "line": {
             "colorbar": {
              "outlinewidth": 0,
              "ticks": ""
             }
            },
            "type": "parcoords"
           }
          ],
          "pie": [
           {
            "automargin": true,
            "type": "pie"
           }
          ],
          "scatter": [
           {
            "fillpattern": {
             "fillmode": "overlay",
             "size": 10,
             "solidity": 0.2
            },
            "type": "scatter"
           }
          ],
          "scatter3d": [
           {
            "line": {
             "colorbar": {
              "outlinewidth": 0,
              "ticks": ""
             }
            },
            "marker": {
             "colorbar": {
              "outlinewidth": 0,
              "ticks": ""
             }
            },
            "type": "scatter3d"
           }
          ],
          "scattercarpet": [
           {
            "marker": {
             "colorbar": {
              "outlinewidth": 0,
              "ticks": ""
             }
            },
            "type": "scattercarpet"
           }
          ],
          "scattergeo": [
           {
            "marker": {
             "colorbar": {
              "outlinewidth": 0,
              "ticks": ""
             }
            },
            "type": "scattergeo"
           }
          ],
          "scattergl": [
           {
            "marker": {
             "colorbar": {
              "outlinewidth": 0,
              "ticks": ""
             }
            },
            "type": "scattergl"
           }
          ],
          "scattermapbox": [
           {
            "marker": {
             "colorbar": {
              "outlinewidth": 0,
              "ticks": ""
             }
            },
            "type": "scattermapbox"
           }
          ],
          "scatterpolar": [
           {
            "marker": {
             "colorbar": {
              "outlinewidth": 0,
              "ticks": ""
             }
            },
            "type": "scatterpolar"
           }
          ],
          "scatterpolargl": [
           {
            "marker": {
             "colorbar": {
              "outlinewidth": 0,
              "ticks": ""
             }
            },
            "type": "scatterpolargl"
           }
          ],
          "scatterternary": [
           {
            "marker": {
             "colorbar": {
              "outlinewidth": 0,
              "ticks": ""
             }
            },
            "type": "scatterternary"
           }
          ],
          "surface": [
           {
            "colorbar": {
             "outlinewidth": 0,
             "ticks": ""
            },
            "colorscale": [
             [
              0,
              "#0d0887"
             ],
             [
              0.1111111111111111,
              "#46039f"
             ],
             [
              0.2222222222222222,
              "#7201a8"
             ],
             [
              0.3333333333333333,
              "#9c179e"
             ],
             [
              0.4444444444444444,
              "#bd3786"
             ],
             [
              0.5555555555555556,
              "#d8576b"
             ],
             [
              0.6666666666666666,
              "#ed7953"
             ],
             [
              0.7777777777777778,
              "#fb9f3a"
             ],
             [
              0.8888888888888888,
              "#fdca26"
             ],
             [
              1,
              "#f0f921"
             ]
            ],
            "type": "surface"
           }
          ],
          "table": [
           {
            "cells": {
             "fill": {
              "color": "#EBF0F8"
             },
             "line": {
              "color": "white"
             }
            },
            "header": {
             "fill": {
              "color": "#C8D4E3"
             },
             "line": {
              "color": "white"
             }
            },
            "type": "table"
           }
          ]
         },
         "layout": {
          "annotationdefaults": {
           "arrowcolor": "#2a3f5f",
           "arrowhead": 0,
           "arrowwidth": 1
          },
          "autotypenumbers": "strict",
          "coloraxis": {
           "colorbar": {
            "outlinewidth": 0,
            "ticks": ""
           }
          },
          "colorscale": {
           "diverging": [
            [
             0,
             "#8e0152"
            ],
            [
             0.1,
             "#c51b7d"
            ],
            [
             0.2,
             "#de77ae"
            ],
            [
             0.3,
             "#f1b6da"
            ],
            [
             0.4,
             "#fde0ef"
            ],
            [
             0.5,
             "#f7f7f7"
            ],
            [
             0.6,
             "#e6f5d0"
            ],
            [
             0.7,
             "#b8e186"
            ],
            [
             0.8,
             "#7fbc41"
            ],
            [
             0.9,
             "#4d9221"
            ],
            [
             1,
             "#276419"
            ]
           ],
           "sequential": [
            [
             0,
             "#0d0887"
            ],
            [
             0.1111111111111111,
             "#46039f"
            ],
            [
             0.2222222222222222,
             "#7201a8"
            ],
            [
             0.3333333333333333,
             "#9c179e"
            ],
            [
             0.4444444444444444,
             "#bd3786"
            ],
            [
             0.5555555555555556,
             "#d8576b"
            ],
            [
             0.6666666666666666,
             "#ed7953"
            ],
            [
             0.7777777777777778,
             "#fb9f3a"
            ],
            [
             0.8888888888888888,
             "#fdca26"
            ],
            [
             1,
             "#f0f921"
            ]
           ],
           "sequentialminus": [
            [
             0,
             "#0d0887"
            ],
            [
             0.1111111111111111,
             "#46039f"
            ],
            [
             0.2222222222222222,
             "#7201a8"
            ],
            [
             0.3333333333333333,
             "#9c179e"
            ],
            [
             0.4444444444444444,
             "#bd3786"
            ],
            [
             0.5555555555555556,
             "#d8576b"
            ],
            [
             0.6666666666666666,
             "#ed7953"
            ],
            [
             0.7777777777777778,
             "#fb9f3a"
            ],
            [
             0.8888888888888888,
             "#fdca26"
            ],
            [
             1,
             "#f0f921"
            ]
           ]
          },
          "colorway": [
           "#636efa",
           "#EF553B",
           "#00cc96",
           "#ab63fa",
           "#FFA15A",
           "#19d3f3",
           "#FF6692",
           "#B6E880",
           "#FF97FF",
           "#FECB52"
          ],
          "font": {
           "color": "#2a3f5f"
          },
          "geo": {
           "bgcolor": "white",
           "lakecolor": "white",
           "landcolor": "#E5ECF6",
           "showlakes": true,
           "showland": true,
           "subunitcolor": "white"
          },
          "hoverlabel": {
           "align": "left"
          },
          "hovermode": "closest",
          "mapbox": {
           "style": "light"
          },
          "paper_bgcolor": "white",
          "plot_bgcolor": "#E5ECF6",
          "polar": {
           "angularaxis": {
            "gridcolor": "white",
            "linecolor": "white",
            "ticks": ""
           },
           "bgcolor": "#E5ECF6",
           "radialaxis": {
            "gridcolor": "white",
            "linecolor": "white",
            "ticks": ""
           }
          },
          "scene": {
           "xaxis": {
            "backgroundcolor": "#E5ECF6",
            "gridcolor": "white",
            "gridwidth": 2,
            "linecolor": "white",
            "showbackground": true,
            "ticks": "",
            "zerolinecolor": "white"
           },
           "yaxis": {
            "backgroundcolor": "#E5ECF6",
            "gridcolor": "white",
            "gridwidth": 2,
            "linecolor": "white",
            "showbackground": true,
            "ticks": "",
            "zerolinecolor": "white"
           },
           "zaxis": {
            "backgroundcolor": "#E5ECF6",
            "gridcolor": "white",
            "gridwidth": 2,
            "linecolor": "white",
            "showbackground": true,
            "ticks": "",
            "zerolinecolor": "white"
           }
          },
          "shapedefaults": {
           "line": {
            "color": "#2a3f5f"
           }
          },
          "ternary": {
           "aaxis": {
            "gridcolor": "white",
            "linecolor": "white",
            "ticks": ""
           },
           "baxis": {
            "gridcolor": "white",
            "linecolor": "white",
            "ticks": ""
           },
           "bgcolor": "#E5ECF6",
           "caxis": {
            "gridcolor": "white",
            "linecolor": "white",
            "ticks": ""
           }
          },
          "title": {
           "x": 0.05
          },
          "xaxis": {
           "automargin": true,
           "gridcolor": "white",
           "linecolor": "white",
           "ticks": "",
           "title": {
            "standoff": 15
           },
           "zerolinecolor": "white",
           "zerolinewidth": 2
          },
          "yaxis": {
           "automargin": true,
           "gridcolor": "white",
           "linecolor": "white",
           "ticks": "",
           "title": {
            "standoff": 15
           },
           "zerolinecolor": "white",
           "zerolinewidth": 2
          }
         }
        },
        "title": {
         "text": "Матрица корреляций"
        },
        "xaxis": {
         "anchor": "y",
         "autorange": true,
         "domain": [
          0,
          1
         ],
         "range": [
          -0.5,
          7.5
         ],
         "type": "category"
        },
        "yaxis": {
         "anchor": "x",
         "autorange": true,
         "domain": [
          0,
          1
         ],
         "range": [
          7.5,
          -0.5
         ],
         "type": "category"
        }
       }
      },
      "image/png": "[encoded data removed]",
      "text/html": [
       "<div>                            <div id=\"293f4e57-0d77-4daa-8797-5133b3fea9c4\" class=\"plotly-graph-div\" style=\"height:525px; width:100%;\"></div>            <script type=\"text/javascript\">                require([\"plotly\"], function(Plotly) {                    window.PLOTLYENV=window.PLOTLYENV || {};                                    if (document.getElementById(\"293f4e57-0d77-4daa-8797-5133b3fea9c4\")) {                    Plotly.newPlot(                        \"293f4e57-0d77-4daa-8797-5133b3fea9c4\",                        [{\"coloraxis\":\"coloraxis\",\"name\":\"0\",\"texttemplate\":\"%{z}\",\"x\":[\"link_count\",\"width_min\",\"total_text_length\",\"rotate_mean\",\"font-size_mean\",\"line-height_mean\",\"height_mean\",\"label\"],\"y\":[\"link_count\",\"width_min\",\"total_text_length\",\"rotate_mean\",\"font-size_mean\",\"line-height_mean\",\"height_mean\",\"label\"],\"z\":[[1.0,-0.30492602813233666,0.8316344743758664,0.20382772735543742,-0.19885306786746496,-0.2900513088136557,-0.1106363092447538,-0.5654140912898757],[-0.30492602813233666,1.0,-0.1777424078323537,-0.09201782759327162,0.14208913210746865,0.14956156687336164,0.11140786590945763,0.35813840188294715],[0.8316344743758664,-0.1777424078323537,1.0,0.14380622753923628,-0.12658668801365966,-0.2366611905791047,-0.15836089089569408,-0.4567914189165392],[0.20382772735543742,-0.09201782759327162,0.14380622753923628,1.0,-0.11724409400058045,-0.23514384793471765,0.1638703013939969,-0.4583797454533451],[-0.19885306786746496,0.14208913210746865,-0.12658668801365966,-0.11724409400058045,1.0,0.05620522272270105,0.33679854012689586,0.11522134771379611],[-0.2900513088136557,0.14956156687336164,-0.2366611905791047,-0.23514384793471765,0.05620522272270105,1.0,-0.009980882097056316,0.5129891760425768],[-0.1106363092447538,0.11140786590945763,-0.15836089089569408,0.1638703013939969,0.33679854012689586,-0.009980882097056316,1.0,0.03535836991820556],[-0.5654140912898757,0.35813840188294715,-0.4567914189165392,-0.4583797454533451,0.11522134771379611,0.5129891760425768,0.03535836991820556,1.0]],\"type\":\"heatmap\",\"xaxis\":\"x\",\"yaxis\":\"y\",\"hovertemplate\":\"x: %{x}\\u003cbr\\u003ey: %{y}\\u003cbr\\u003ecolor: %{z}\\u003cextra\\u003e\\u003c\\u002fextra\\u003e\"}],                        {\"template\":{\"data\":{\"histogram2dcontour\":[{\"type\":\"histogram2dcontour\",\"colorbar\":{\"outlinewidth\":0,\"ticks\":\"\"},\"colorscale\":[[0.0,\"#0d0887\"],[0.1111111111111111,\"#46039f\"],[0.2222222222222222,\"#7201a8\"],[0.3333333333333333,\"#9c179e\"],[0.4444444444444444,\"#bd3786\"],[0.5555555555555556,\"#d8576b\"],[0.6666666666666666,\"#ed7953\"],[0.7777777777777778,\"#fb9f3a\"],[0.8888888888888888,\"#fdca26\"],[1.0,\"#f0f921\"]]}],\"choropleth\":[{\"type\":\"choropleth\",\"colorbar\":{\"outlinewidth\":0,\"ticks\":\"\"}}],\"histogram2d\":[{\"type\":\"histogram2d\",\"colorbar\":{\"outlinewidth\":0,\"ticks\":\"\"},\"colorscale\":[[0.0,\"#0d0887\"],[0.1111111111111111,\"#46039f\"],[0.2222222222222222,\"#7201a8\"],[0.3333333333333333,\"#9c179e\"],[0.4444444444444444,\"#bd3786\"],[0.5555555555555556,\"#d8576b\"],[0.6666666666666666,\"#ed7953\"],[0.7777777777777778,\"#fb9f3a\"],[0.8888888888888888,\"#fdca26\"],[1.0,\"#f0f921\"]]}],\"heatmap\":[{\"type\":\"heatmap\",\"colorbar\":{\"outlinewidth\":0,\"ticks\":\"\"},\"colorscale\":[[0.0,\"#0d0887\"],[0.1111111111111111,\"#46039f\"],[0.2222222222222222,\"#7201a8\"],[0.3333333333333333,\"#9c179e\"],[0.4444444444444444,\"#bd3786\"],[0.5555555555555556,\"#d8576b\"],[0.6666666666666666,\"#ed7953\"],[0.7777777777777778,\"#fb9f3a\"],[0.8888888888888888,\"#fdca26\"],[1.0,\"#f0f921\"]]}],\"heatmapgl\":[{\"type\":\"heatmapgl\",\"colorbar\":{\"outlinewidth\":0,\"ticks\":\"\"},\"colorscale\":[[0.0,\"#0d0887\"],[0.1111111111111111,\"#46039f\"],[0.2222222222222222,\"#7201a8\"],[0.3333333333333333,\"#9c179e\"],[0.4444444444444444,\"#bd3786\"],[0.5555555555555556,\"#d8576b\"],[0.6666666666666666,\"#ed7953\"],[0.7777777777777778,\"#fb9f3a\"],[0.8888888888888888,\"#fdca26\"],[1.0,\"#f0f921\"]]}],\"contourcarpet\":[{\"type\":\"contourcarpet\",\"colorbar\":{\"outlinewidth\":0,\"ticks\":\"\"}}],\"contour\":[{\"type\":\"contour\",\"colorbar\":{\"outlinewidth\":0,\"ticks\":\"\"},\"colorscale\":[[0.0,\"#0d0887\"],[0.1111111111111111,\"#46039f\"],[0.2222222222222222,\"#7201a8\"],[0.3333333333333333,\"#9c179e\"],[0.4444444444444444,\"#bd3786\"],[0.5555555555555556,\"#d8576b\"],[0.6666666666666666,\"#ed7953\"],[0.7777777777777778,\"#fb9f3a\"],[0.8888888888888888,\"#fdca26\"],[1.0,\"#f0f921\"]]}],\"surface\":[{\"type\":\"surface\",\"colorbar\":{\"outlinewidth\":0,\"ticks\":\"\"},\"colorscale\":[[0.0,\"#0d0887\"],[0.1111111111111111,\"#46039f\"],[0.2222222222222222,\"#7201a8\"],[0.3333333333333333,\"#9c179e\"],[0.4444444444444444,\"#bd3786\"],[0.5555555555555556,\"#d8576b\"],[0.6666666666666666,\"#ed7953\"],[0.7777777777777778,\"#fb9f3a\"],[0.8888888888888888,\"#fdca26\"],[1.0,\"#f0f921\"]]}],\"mesh3d\":[{\"type\":\"mesh3d\",\"colorbar\":{\"outlinewidth\":0,\"ticks\":\"\"}}],\"scatter\":[{\"fillpattern\":{\"fillmode\":\"overlay\",\"size\":10,\"solidity\":0.2},\"type\":\"scatter\"}],\"parcoords\":[{\"type\":\"parcoords\",\"line\":{\"colorbar\":{\"outlinewidth\":0,\"ticks\":\"\"}}}],\"scatterpolargl\":[{\"type\":\"scatterpolargl\",\"marker\":{\"colorbar\":{\"outlinewidth\":0,\"ticks\":\"\"}}}],\"bar\":[{\"error_x\":{\"color\":\"#2a3f5f\"},\"error_y\":{\"color\":\"#2a3f5f\"},\"marker\":{\"line\":{\"color\":\"#E5ECF6\",\"width\":0.5},\"pattern\":{\"fillmode\":\"overlay\",\"size\":10,\"solidity\":0.2}},\"type\":\"bar\"}],\"scattergeo\":[{\"type\":\"scattergeo\",\"marker\":{\"colorbar\":{\"outlinewidth\":0,\"ticks\":\"\"}}}],\"scatterpolar\":[{\"type\":\"scatterpolar\",\"marker\":{\"colorbar\":{\"outlinewidth\":0,\"ticks\":\"\"}}}],\"histogram\":[{\"marker\":{\"pattern\":{\"fillmode\":\"overlay\",\"size\":10,\"solidity\":0.2}},\"type\":\"histogram\"}],\"scattergl\":[{\"type\":\"scattergl\",\"marker\":{\"colorbar\":{\"outlinewidth\":0,\"ticks\":\"\"}}}],\"scatter3d\":[{\"type\":\"scatter3d\",\"line\":{\"colorbar\":{\"outlinewidth\":0,\"ticks\":\"\"}},\"marker\":{\"colorbar\":{\"outlinewidth\":0,\"ticks\":\"\"}}}],\"scattermapbox\":[{\"type\":\"scattermapbox\",\"marker\":{\"colorbar\":{\"outlinewidth\":0,\"ticks\":\"\"}}}],\"scatterternary\":[{\"type\":\"scatterternary\",\"marker\":{\"colorbar\":{\"outlinewidth\":0,\"ticks\":\"\"}}}],\"scattercarpet\":[{\"type\":\"scattercarpet\",\"marker\":{\"colorbar\":{\"outlinewidth\":0,\"ticks\":\"\"}}}],\"carpet\":[{\"aaxis\":{\"endlinecolor\":\"#2a3f5f\",\"gridcolor\":\"white\",\"linecolor\":\"white\",\"minorgridcolor\":\"white\",\"startlinecolor\":\"#2a3f5f\"},\"baxis\":{\"endlinecolor\":\"#2a3f5f\",\"gridcolor\":\"white\",\"linecolor\":\"white\",\"minorgridcolor\":\"white\",\"startlinecolor\":\"#2a3f5f\"},\"type\":\"carpet\"}],\"table\":[{\"cells\":{\"fill\":{\"color\":\"#EBF0F8\"},\"line\":{\"color\":\"white\"}},\"header\":{\"fill\":{\"color\":\"#C8D4E3\"},\"line\":{\"color\":\"white\"}},\"type\":\"table\"}],\"barpolar\":[{\"marker\":{\"line\":{\"color\":\"#E5ECF6\",\"width\":0.5},\"pattern\":{\"fillmode\":\"overlay\",\"size\":10,\"solidity\":0.2}},\"type\":\"barpolar\"}],\"pie\":[{\"automargin\":true,\"type\":\"pie\"}]},\"layout\":{\"autotypenumbers\":\"strict\",\"colorway\":[\"#636efa\",\"#EF553B\",\"#00cc96\",\"#ab63fa\",\"#FFA15A\",\"#19d3f3\",\"#FF6692\",\"#B6E880\",\"#FF97FF\",\"#FECB52\"],\"font\":{\"color\":\"#2a3f5f\"},\"hovermode\":\"closest\",\"hoverlabel\":{\"align\":\"left\"},\"paper_bgcolor\":\"white\",\"plot_bgcolor\":\"#E5ECF6\",\"polar\":{\"bgcolor\":\"#E5ECF6\",\"angularaxis\":{\"gridcolor\":\"white\",\"linecolor\":\"white\",\"ticks\":\"\"},\"radialaxis\":{\"gridcolor\":\"white\",\"linecolor\":\"white\",\"ticks\":\"\"}},\"ternary\":{\"bgcolor\":\"#E5ECF6\",\"aaxis\":{\"gridcolor\":\"white\",\"linecolor\":\"white\",\"ticks\":\"\"},\"baxis\":{\"gridcolor\":\"white\",\"linecolor\":\"white\",\"ticks\":\"\"},\"caxis\":{\"gridcolor\":\"white\",\"linecolor\":\"white\",\"ticks\":\"\"}},\"coloraxis\":{\"colorbar\":{\"outlinewidth\":0,\"ticks\":\"\"}},\"colorscale\":{\"sequential\":[[0.0,\"#0d0887\"],[0.1111111111111111,\"#46039f\"],[0.2222222222222222,\"#7201a8\"],[0.3333333333333333,\"#9c179e\"],[0.4444444444444444,\"#bd3786\"],[0.5555555555555556,\"#d8576b\"],[0.6666666666666666,\"#ed7953\"],[0.7777777777777778,\"#fb9f3a\"],[0.8888888888888888,\"#fdca26\"],[1.0,\"#f0f921\"]],\"sequentialminus\":[[0.0,\"#0d0887\"],[0.1111111111111111,\"#46039f\"],[0.2222222222222222,\"#7201a8\"],[0.3333333333333333,\"#9c179e\"],[0.4444444444444444,\"#bd3786\"],[0.5555555555555556,\"#d8576b\"],[0.6666666666666666,\"#ed7953\"],[0.7777777777777778,\"#fb9f3a\"],[0.8888888888888888,\"#fdca26\"],[1.0,\"#f0f921\"]],\"diverging\":[[0,\"#8e0152\"],[0.1,\"#c51b7d\"],[0.2,\"#de77ae\"],[0.3,\"#f1b6da\"],[0.4,\"#fde0ef\"],[0.5,\"#f7f7f7\"],[0.6,\"#e6f5d0\"],[0.7,\"#b8e186\"],[0.8,\"#7fbc41\"],[0.9,\"#4d9221\"],[1,\"#276419\"]]},\"xaxis\":{\"gridcolor\":\"white\",\"linecolor\":\"white\",\"ticks\":\"\",\"title\":{\"standoff\":15},\"zerolinecolor\":\"white\",\"automargin\":true,\"zerolinewidth\":2},\"yaxis\":{\"gridcolor\":\"white\",\"linecolor\":\"white\",\"ticks\":\"\",\"title\":{\"standoff\":15},\"zerolinecolor\":\"white\",\"automargin\":true,\"zerolinewidth\":2},\"scene\":{\"xaxis\":{\"backgroundcolor\":\"#E5ECF6\",\"gridcolor\":\"white\",\"linecolor\":\"white\",\"showbackground\":true,\"ticks\":\"\",\"zerolinecolor\":\"white\",\"gridwidth\":2},\"yaxis\":{\"backgroundcolor\":\"#E5ECF6\",\"gridcolor\":\"white\",\"linecolor\":\"white\",\"showbackground\":true,\"ticks\":\"\",\"zerolinecolor\":\"white\",\"gridwidth\":2},\"zaxis\":{\"backgroundcolor\":\"#E5ECF6\",\"gridcolor\":\"white\",\"linecolor\":\"white\",\"showbackground\":true,\"ticks\":\"\",\"zerolinecolor\":\"white\",\"gridwidth\":2}},\"shapedefaults\":{\"line\":{\"color\":\"#2a3f5f\"}},\"annotationdefaults\":{\"arrowcolor\":\"#2a3f5f\",\"arrowhead\":0,\"arrowwidth\":1},\"geo\":{\"bgcolor\":\"white\",\"landcolor\":\"#E5ECF6\",\"subunitcolor\":\"white\",\"showland\":true,\"showlakes\":true,\"lakecolor\":\"white\"},\"title\":{\"x\":0.05},\"mapbox\":{\"style\":\"light\"}}},\"xaxis\":{\"anchor\":\"y\",\"domain\":[0.0,1.0]},\"yaxis\":{\"anchor\":\"x\",\"domain\":[0.0,1.0],\"autorange\":\"reversed\"},\"coloraxis\":{\"colorscale\":[[0.0,\"rgb(5,48,97)\"],[0.1,\"rgb(33,102,172)\"],[0.2,\"rgb(67,147,195)\"],[0.3,\"rgb(146,197,222)\"],[0.4,\"rgb(209,229,240)\"],[0.5,\"rgb(247,247,247)\"],[0.6,\"rgb(253,219,199)\"],[0.7,\"rgb(244,165,130)\"],[0.8,\"rgb(214,96,77)\"],[0.9,\"rgb(178,24,43)\"],[1.0,\"rgb(103,0,31)\"]]},\"title\":{\"text\":\"\\u041c\\u0430\\u0442\\u0440\\u0438\\u0446\\u0430 \\u043a\\u043e\\u0440\\u0440\\u0435\\u043b\\u044f\\u0446\\u0438\\u0439\"}},                        {\"responsive\": true}                    ).then(function(){\n",
       "                            \n",
       "var gd = document.getElementById('293f4e57-0d77-4daa-8797-5133b3fea9c4');\n",
       "var x = new MutationObserver(function (mutations, observer) {{\n",
       "        var display = window.getComputedStyle(gd).display;\n",
       "        if (!display || display === 'none') {{\n",
       "            console.log([gd, 'removed!']);\n",
       "            Plotly.purge(gd);\n",
       "            observer.disconnect();\n",
       "        }}\n",
       "}});\n",
       "\n",
       "// Listen for the removal of the full notebook cells\n",
       "var notebookContainer = gd.closest('#notebook-container');\n",
       "if (notebookContainer) {{\n",
       "    x.observe(notebookContainer, {childList: true});\n",
       "}}\n",
       "\n",
       "// Listen for the clearing of the current output cell\n",
       "var outputEl = gd.closest('.output');\n",
       "if (outputEl) {{\n",
       "    x.observe(outputEl, {childList: true});\n",
       "}}\n",
       "\n",
       "                        })                };                });            </script>        </div>"
      ]
     },
     "metadata": {},
     "output_type": "display_data"
    }
   ],
   "source": [
    "# Повторяем матрицу\n",
    "corr_matrix = df.corr()\n",
    "\n",
    "# Создаем тепловую карту\n",
    "fig = px.imshow(corr_matrix,\n",
    "                text_auto=True,\n",
    "                aspect=\"auto\",\n",
    "                color_continuous_scale='RdBu_r',\n",
    "                title='Матрица корреляций')\n",
    "fig.show()"
   ]
  },
  {
   "cell_type": "code",
   "execution_count": 93,
   "id": "e4edebc3-4117-4abd-9d9b-282b35aefe2a",
   "metadata": {},
   "outputs": [
    {
     "data": {
      "text/html": [
       "<div>\n",
       "<style scoped>\n",
       "    .dataframe tbody tr th:only-of-type {\n",
       "        vertical-align: middle;\n",
       "    }\n",
       "\n",
       "    .dataframe tbody tr th {\n",
       "        vertical-align: top;\n",
       "    }\n",
       "\n",
       "    .dataframe thead th {\n",
       "        text-align: right;\n",
       "    }\n",
       "</style>\n",
       "<table border=\"1\" class=\"dataframe\">\n",
       "  <thead>\n",
       "    <tr style=\"text-align: right;\">\n",
       "      <th></th>\n",
       "      <th>link_count</th>\n",
       "      <th>width_min</th>\n",
       "      <th>total_text_length</th>\n",
       "      <th>rotate_mean</th>\n",
       "      <th>font-size_mean</th>\n",
       "      <th>line-height_mean</th>\n",
       "      <th>height_mean</th>\n",
       "      <th>label</th>\n",
       "    </tr>\n",
       "  </thead>\n",
       "  <tbody>\n",
       "    <tr>\n",
       "      <th>0</th>\n",
       "      <td>0</td>\n",
       "      <td>519.0</td>\n",
       "      <td>36</td>\n",
       "      <td>0.0</td>\n",
       "      <td>36.000000</td>\n",
       "      <td>0.0</td>\n",
       "      <td>385.500000</td>\n",
       "      <td>1</td>\n",
       "    </tr>\n",
       "    <tr>\n",
       "      <th>1</th>\n",
       "      <td>0</td>\n",
       "      <td>356.0</td>\n",
       "      <td>428</td>\n",
       "      <td>0.0</td>\n",
       "      <td>25.500000</td>\n",
       "      <td>1.0</td>\n",
       "      <td>321.714286</td>\n",
       "      <td>1</td>\n",
       "    </tr>\n",
       "    <tr>\n",
       "      <th>2</th>\n",
       "      <td>0</td>\n",
       "      <td>570.0</td>\n",
       "      <td>0</td>\n",
       "      <td>0.0</td>\n",
       "      <td>0.000000</td>\n",
       "      <td>0.0</td>\n",
       "      <td>420.500000</td>\n",
       "      <td>1</td>\n",
       "    </tr>\n",
       "    <tr>\n",
       "      <th>3</th>\n",
       "      <td>0</td>\n",
       "      <td>457.0</td>\n",
       "      <td>460</td>\n",
       "      <td>0.0</td>\n",
       "      <td>38.666667</td>\n",
       "      <td>1.0</td>\n",
       "      <td>316.666667</td>\n",
       "      <td>1</td>\n",
       "    </tr>\n",
       "    <tr>\n",
       "      <th>4</th>\n",
       "      <td>0</td>\n",
       "      <td>354.0</td>\n",
       "      <td>418</td>\n",
       "      <td>0.0</td>\n",
       "      <td>26.666667</td>\n",
       "      <td>1.0</td>\n",
       "      <td>355.750000</td>\n",
       "      <td>1</td>\n",
       "    </tr>\n",
       "  </tbody>\n",
       "</table>\n",
       "</div>"
      ],
      "text/plain": [
       "   link_count  width_min  total_text_length  rotate_mean  font-size_mean  \\\n",
       "0           0      519.0                 36          0.0       36.000000   \n",
       "1           0      356.0                428          0.0       25.500000   \n",
       "2           0      570.0                  0          0.0        0.000000   \n",
       "3           0      457.0                460          0.0       38.666667   \n",
       "4           0      354.0                418          0.0       26.666667   \n",
       "\n",
       "   line-height_mean  height_mean  label  \n",
       "0               0.0   385.500000      1  \n",
       "1               1.0   321.714286      1  \n",
       "2               0.0   420.500000      1  \n",
       "3               1.0   316.666667      1  \n",
       "4               1.0   355.750000      1  "
      ]
     },
     "execution_count": 93,
     "metadata": {},
     "output_type": "execute_result"
    }
   ],
   "source": [
    "df.head()"
   ]
  },
  {
   "cell_type": "code",
   "execution_count": 94,
   "id": "f5e316da-410c-451d-a189-eebe52d791f5",
   "metadata": {},
   "outputs": [
    {
     "data": {
      "image/png": "[encoded data removed]",
      "text/plain": [
       "<Figure size 1200x800 with 7 Axes>"
      ]
     },
     "metadata": {},
     "output_type": "display_data"
    }
   ],
   "source": [
    "\n",
    "# Список признаков для боксплотов\n",
    "features_to_plot = [\n",
    "    'link_count',\n",
    "    'width_min',\n",
    "    'total_text_length',\n",
    "    'rotate_mean',\n",
    "    'font-size_mean',\n",
    "    'line-height_mean',\n",
    "    'height_mean'\n",
    "]\n",
    "\n",
    "# Настройка стиля графиков\n",
    "sns.set(style=\"whitegrid\")\n",
    "plt.figure(figsize=(12, 8))\n",
    "\n",
    "# Создаем боксплот для каждого признака\n",
    "for i, feature in enumerate(features_to_plot, 1):\n",
    "    plt.subplot(3, 3, i)  # 3x3 сетка, i-й график\n",
    "    sns.boxplot(y=df[feature])\n",
    "    plt.title(feature)\n",
    "    plt.tight_layout()\n",
    "\n",
    "plt.show()\n"
   ]
  },
  {
   "cell_type": "markdown",
   "id": "085dae6d-3d63-4c48-9199-0c9162a65b16",
   "metadata": {},
   "source": [
    "На построенных боксплотах для признаков link_count, width_min, total_text_length, rotate_mean, font-size_mean, line-height_mean и height_mean явно наблюдаются выбросы и аномальные значения. Однако в контексте анализа HTML-документов и визуальных элементов страниц такие значения являются естественными и отражают реальную вариативность контента (например, большие блоки текста, редкие повороты элементов, экстремальные размеры шрифтов или блоков). Поэтому эти аномалии не удаляются из датасета и учитываются при дальнейшем построении моделей."
   ]
  },
  {
   "cell_type": "code",
   "execution_count": 95,
   "id": "164a3b77-208d-43f3-b6eb-59a32c3c92b9",
   "metadata": {},
   "outputs": [],
   "source": [
    "from sklearn.preprocessing import StandardScaler\n",
    "\n",
    "# Список признаков для стандартизации\n",
    "numeric_features = [\n",
    "    'link_count',\n",
    "    'width_min',\n",
    "    'total_text_length',\n",
    "    'rotate_mean',\n",
    "    'font-size_mean',\n",
    "    'line-height_mean',\n",
    "    'height_mean'\n",
    "]\n",
    "\n",
    "# Инициализация стандартизатора\n",
    "scaler = StandardScaler()\n",
    "\n",
    "# Применяем стандартизацию\n",
    "df[numeric_features] = scaler.fit_transform(df[numeric_features])"
   ]
  },
  {
   "cell_type": "code",
   "execution_count": 96,
   "id": "ebeb6e5d-91ab-43a9-8e12-e8e870a55dab",
   "metadata": {},
   "outputs": [
    {
     "data": {
      "text/html": [
       "<div>\n",
       "<style scoped>\n",
       "    .dataframe tbody tr th:only-of-type {\n",
       "        vertical-align: middle;\n",
       "    }\n",
       "\n",
       "    .dataframe tbody tr th {\n",
       "        vertical-align: top;\n",
       "    }\n",
       "\n",
       "    .dataframe thead th {\n",
       "        text-align: right;\n",
       "    }\n",
       "</style>\n",
       "<table border=\"1\" class=\"dataframe\">\n",
       "  <thead>\n",
       "    <tr style=\"text-align: right;\">\n",
       "      <th></th>\n",
       "      <th>link_count</th>\n",
       "      <th>width_min</th>\n",
       "      <th>total_text_length</th>\n",
       "      <th>rotate_mean</th>\n",
       "      <th>font-size_mean</th>\n",
       "      <th>line-height_mean</th>\n",
       "      <th>height_mean</th>\n",
       "      <th>label</th>\n",
       "    </tr>\n",
       "  </thead>\n",
       "  <tbody>\n",
       "    <tr>\n",
       "      <th>0</th>\n",
       "      <td>-0.565414</td>\n",
       "      <td>-0.033873</td>\n",
       "      <td>-0.777461</td>\n",
       "      <td>-0.45838</td>\n",
       "      <td>0.351940</td>\n",
       "      <td>-0.512989</td>\n",
       "      <td>0.485478</td>\n",
       "      <td>1</td>\n",
       "    </tr>\n",
       "    <tr>\n",
       "      <th>1</th>\n",
       "      <td>-0.565414</td>\n",
       "      <td>-0.448749</td>\n",
       "      <td>-0.480069</td>\n",
       "      <td>-0.45838</td>\n",
       "      <td>-0.008808</td>\n",
       "      <td>1.725509</td>\n",
       "      <td>0.084896</td>\n",
       "      <td>1</td>\n",
       "    </tr>\n",
       "    <tr>\n",
       "      <th>2</th>\n",
       "      <td>-0.565414</td>\n",
       "      <td>0.095935</td>\n",
       "      <td>-0.804773</td>\n",
       "      <td>-0.45838</td>\n",
       "      <td>-0.884909</td>\n",
       "      <td>-0.512989</td>\n",
       "      <td>0.705282</td>\n",
       "      <td>1</td>\n",
       "    </tr>\n",
       "    <tr>\n",
       "      <th>3</th>\n",
       "      <td>-0.565414</td>\n",
       "      <td>-0.191679</td>\n",
       "      <td>-0.455793</td>\n",
       "      <td>-0.45838</td>\n",
       "      <td>0.443558</td>\n",
       "      <td>1.725509</td>\n",
       "      <td>0.053196</td>\n",
       "      <td>1</td>\n",
       "    </tr>\n",
       "    <tr>\n",
       "      <th>4</th>\n",
       "      <td>-0.565414</td>\n",
       "      <td>-0.453840</td>\n",
       "      <td>-0.487656</td>\n",
       "      <td>-0.45838</td>\n",
       "      <td>0.031276</td>\n",
       "      <td>1.725509</td>\n",
       "      <td>0.298644</td>\n",
       "      <td>1</td>\n",
       "    </tr>\n",
       "  </tbody>\n",
       "</table>\n",
       "</div>"
      ],
      "text/plain": [
       "   link_count  width_min  total_text_length  rotate_mean  font-size_mean  \\\n",
       "0   -0.565414  -0.033873          -0.777461     -0.45838        0.351940   \n",
       "1   -0.565414  -0.448749          -0.480069     -0.45838       -0.008808   \n",
       "2   -0.565414   0.095935          -0.804773     -0.45838       -0.884909   \n",
       "3   -0.565414  -0.191679          -0.455793     -0.45838        0.443558   \n",
       "4   -0.565414  -0.453840          -0.487656     -0.45838        0.031276   \n",
       "\n",
       "   line-height_mean  height_mean  label  \n",
       "0         -0.512989     0.485478      1  \n",
       "1          1.725509     0.084896      1  \n",
       "2         -0.512989     0.705282      1  \n",
       "3          1.725509     0.053196      1  \n",
       "4          1.725509     0.298644      1  "
      ]
     },
     "execution_count": 96,
     "metadata": {},
     "output_type": "execute_result"
    }
   ],
   "source": [
    "df.head()"
   ]
  },
  {
   "cell_type": "markdown",
   "id": "65afd405-612b-43f8-beb1-418462a86e23",
   "metadata": {},
   "source": [
    "Была проведена стандартизация признаков link_count, width_min, total_text_length, rotate_mean, font-size_mean, line-height_mean и height_mean. Стандартизация была выбрана, поскольку эти признаки имеют разные масштабы и диапазоны, а также присутствуют выбросы."
   ]
  },
  {
   "cell_type": "code",
   "execution_count": 97,
   "id": "9e7f9d4e-216a-42d3-ae78-33fe2810f577",
   "metadata": {},
   "outputs": [
    {
     "name": "stdout",
     "output_type": "stream",
     "text": [
      "\n",
      "=== Logistic Regression ===\n",
      "              precision    recall  f1-score   support\n",
      "\n",
      "           0       1.00      0.87      0.93        15\n",
      "           1       0.88      1.00      0.94        15\n",
      "\n",
      "    accuracy                           0.93        30\n",
      "   macro avg       0.94      0.93      0.93        30\n",
      "weighted avg       0.94      0.93      0.93        30\n",
      "\n",
      "\n",
      "=== Random Forest ===\n",
      "              precision    recall  f1-score   support\n",
      "\n",
      "           0       1.00      0.93      0.97        15\n",
      "           1       0.94      1.00      0.97        15\n",
      "\n",
      "    accuracy                           0.97        30\n",
      "   macro avg       0.97      0.97      0.97        30\n",
      "weighted avg       0.97      0.97      0.97        30\n",
      "\n",
      "\n",
      "=== Gradient Boosting ===\n",
      "              precision    recall  f1-score   support\n",
      "\n",
      "           0       1.00      0.93      0.97        15\n",
      "           1       0.94      1.00      0.97        15\n",
      "\n",
      "    accuracy                           0.97        30\n",
      "   macro avg       0.97      0.97      0.97        30\n",
      "weighted avg       0.97      0.97      0.97        30\n",
      "\n",
      "\n",
      "=== KNN ===\n",
      "              precision    recall  f1-score   support\n",
      "\n",
      "           0       1.00      0.73      0.85        15\n",
      "           1       0.79      1.00      0.88        15\n",
      "\n",
      "    accuracy                           0.87        30\n",
      "   macro avg       0.89      0.87      0.86        30\n",
      "weighted avg       0.89      0.87      0.86        30\n",
      "\n",
      "\n",
      "📊 Сравнение моделей:\n",
      "                 Model  Accuracy  Precision  Recall  F1-score   ROC-AUC\n",
      "2    Gradient Boosting  0.966667   0.937500     1.0  0.967742  1.000000\n",
      "1        Random Forest  0.966667   0.937500     1.0  0.967742  0.988889\n",
      "0  Logistic Regression  0.933333   0.882353     1.0  0.937500  0.951111\n",
      "3                  KNN  0.866667   0.789474     1.0  0.882353  0.942222\n"
     ]
    }
   ],
   "source": [
    "# === Разделяем признаки и метку ===\n",
    "X = df.drop(columns=['label'])\n",
    "y = df['label']\n",
    "\n",
    "# === Разделение на train/test ===\n",
    "X_train, X_test, y_train, y_test = train_test_split(X, y, test_size=0.25, random_state=42, stratify=y)\n",
    "\n",
    "# === Масштабирование признаков (важно для KNN и логистической регрессии) ===\n",
    "scaler = StandardScaler()\n",
    "X_train_scaled = scaler.fit_transform(X_train)\n",
    "X_test_scaled = scaler.transform(X_test)\n",
    "\n",
    "# === Словарь моделей ===\n",
    "models = {\n",
    "    'Logistic Regression': LogisticRegression(max_iter=1000, random_state=42),\n",
    "    'Random Forest': RandomForestClassifier(n_estimators=200, random_state=42),\n",
    "    'Gradient Boosting': GradientBoostingClassifier(n_estimators=200, random_state=42),\n",
    "    'KNN': KNeighborsClassifier(n_neighbors=5)\n",
    "}\n",
    "\n",
    "# === Обучение и оценка моделей ===\n",
    "results = []\n",
    "\n",
    "for name, model in models.items():\n",
    "    # Для логистической регрессии и KNN используем масштабированные признаки\n",
    "    if name in ['Logistic Regression', 'KNN']:\n",
    "        model.fit(X_train_scaled, y_train)\n",
    "        y_pred = model.predict(X_test_scaled)\n",
    "        y_proba = model.predict_proba(X_test_scaled)[:,1]\n",
    "    else:\n",
    "        model.fit(X_train, y_train)\n",
    "        y_pred = model.predict(X_test)\n",
    "        y_proba = model.predict_proba(X_test)[:,1]\n",
    "    \n",
    "    acc = accuracy_score(y_test, y_pred)\n",
    "    prec = precision_score(y_test, y_pred)\n",
    "    rec = recall_score(y_test, y_pred)\n",
    "    f1 = f1_score(y_test, y_pred)\n",
    "    roc = roc_auc_score(y_test, y_proba)\n",
    "    \n",
    "    results.append({\n",
    "        'Model': name,\n",
    "        'Accuracy': acc,\n",
    "        'Precision': prec,\n",
    "        'Recall': rec,\n",
    "        'F1-score': f1,\n",
    "        'ROC-AUC': roc\n",
    "    })\n",
    "    \n",
    "    print(f\"\\n=== {name} ===\")\n",
    "    print(classification_report(y_test, y_pred))\n",
    "\n",
    "# === Сводная таблица результатов ===\n",
    "results_df = pd.DataFrame(results)\n",
    "print(\"\\n📊 Сравнение моделей:\")\n",
    "print(results_df.sort_values(by='ROC-AUC', ascending=False))\n"
   ]
  },
  {
   "cell_type": "markdown",
   "id": "363e319e-2179-434c-b805-193799d8b0fb",
   "metadata": {},
   "source": [
    "!ПРЕДУПРЕЖДЕНИЕ!  \n",
    "\n",
    "Следует отметить, что размер выборки в данном эксперименте достаточно мал (120 объектов), а признаки, используемые для классификации, являются достаточно информативными и явно различают классы. В такой ситуации высокие показатели точности, F1-score и ROC-AUC являются ожидаемыми и не отражают переобучение в полном масштабе, а скорее обусловлены выраженной различимостью классов и малым объёмом данных. То есть полученные метрики нормальны для данной конкретной задачи и текущей структуры признаков."
   ]
  },
  {
   "cell_type": "markdown",
   "id": "2e3742df-4fb7-423a-9c1f-2518bcb06fe4",
   "metadata": {},
   "source": [
    "По результатам обучения и оценки моделей можно сделать следующие выводы:\n",
    "\n",
    "1. **Все модели показывают высокую точность и сбалансированные метрики**, что свидетельствует о хорошем качестве признаков и корректной предобработке данных.\n",
    "\n",
    "2. **Logistic Regression** показала точность 93%, с хорошим F1-score для обеих классов, но немного отстаёт по сравнению с ансамблевыми моделями.\n",
    "\n",
    "3. **Random Forest и Gradient Boosting** продемонстрировали наилучшие результаты:\n",
    "\n",
    "   * Accuracy = 97%\n",
    "   * F1-score = 0.97 для обоих классов\n",
    "   * ROC-AUC близко к 1\n",
    "     Эти модели устойчивы к масштабу признаков и выбросам, что объясняет их высокую производительность.\n",
    "\n",
    "4. **KNN** показал худшие результаты среди всех моделей (Accuracy = 87%), что связано с чувствительностью алгоритма к масштабу и плотности признаков.\n",
    "\n",
    "5. **Вывод по сравнению моделей:**\n",
    "\n",
    "   * Лучшие модели для данной задачи — **Gradient Boosting и Random Forest**.\n",
    "   * **Logistic Regression** также может использоваться, но уступает ансамблевым методам.\n",
    "   * **KNN** менее предпочтителен из-за более низкой точности и F1-score.\n",
    "\n",
    "**Вывод:** Для классификации HTML-контента по меткам «хороший / плохой» оптимальным выбором являются ансамблевые модели (Random Forest или Gradient Boosting), обеспечивающие высокую точность и устойчивость к особенностям данных."
   ]
  },
  {
   "cell_type": "code",
   "execution_count": 100,
   "id": "d47f99ec-39e1-4ecb-b4dc-d0a5de0163f6",
   "metadata": {},
   "outputs": [
    {
     "name": "stdout",
     "output_type": "stream",
     "text": [
      "Logistic Regression CV F1-score: 0.908 ± 0.034\n",
      "Random Forest CV F1-score: 0.960 ± 0.024\n",
      "Gradient Boosting CV F1-score: 0.939 ± 0.041\n",
      "KNN CV F1-score: 0.924 ± 0.032\n"
     ]
    }
   ],
   "source": [
    "for name, model in models.items():\n",
    "    scores = cross_val_score(model, X, y, cv=5, scoring='f1')\n",
    "    print(f\"{name} CV F1-score: {np.mean(scores):.3f} ± {np.std(scores):.3f}\")"
   ]
  },
  {
   "cell_type": "markdown",
   "id": "0959b351-feea-477e-9284-708701721316",
   "metadata": {},
   "source": [
    "По результатам кросс-валидации можно сделать следующие выводы:  \n",
    "\n",
    "* Random Forest показал наивысший средний F1-score (0.960) с наименьшим стандартным отклонением (±0.024), что указывает на стабильную и высокую производительность модели на разных разбиениях данных.  \n",
    "\n",
    "* Gradient Boosting продемонстрировал тоже высокий F1-score (0.939), но с чуть большим разбросом (±0.041), что говорит о некоторой вариативности результатов на разных фолдах.  \n",
    "\n",
    "* KNN и Logistic Regression показали хорошие результаты (0.924 и 0.908 соответственно), но уступают ансамблевым методам как по среднему F1-score, так и по стабильности.  "
   ]
  },
  {
   "cell_type": "markdown",
   "id": "810d23de-5a8c-479e-a2e4-750579250d4b",
   "metadata": {},
   "source": [
    "В связи с тем, что результаты уже и так имеют довольно хорошие результаты, а размер выборки все также небольшой, поиск и внедрение наиболее подходящих гиперпараметров вероятнее всего будет не эффективен."
   ]
  },
  {
   "cell_type": "code",
   "execution_count": 99,
   "id": "1e5ed71d-b839-4641-a3d5-52f5eb04d79b",
   "metadata": {},
   "outputs": [
    {
     "data": {
      "image/png": "[encoded data removed]",
      "text/plain": [
       "<Figure size 800x600 with 1 Axes>"
      ]
     },
     "metadata": {},
     "output_type": "display_data"
    }
   ],
   "source": [
    "rf = RandomForestClassifier(n_estimators=200, random_state=42)\n",
    "rf.fit(X, y)\n",
    "importances = pd.Series(rf.feature_importances_, index=X.columns)\n",
    "importances.sort_values().plot(kind='barh', figsize=(8,6))\n",
    "plt.title('Feature Importance (Random Forest)')\n",
    "plt.show()"
   ]
  },
  {
   "cell_type": "markdown",
   "id": "ca19cef9-a9a1-4f86-8a88-80fab56f2e8d",
   "metadata": {},
   "source": [
    "По данным о важности признаков можно сделать следующие выводы:\n",
    "\n",
    "1. **Наиболее значимые признаки для модели** — `link_count` (27,9%) и `width_min` (20,6%), что указывает на то, что количество ссылок и минимальная ширина элементов страницы сильнее всего влияют на предсказание класса.\n",
    "\n",
    "2. **Средняя значимость** имеют признаки `total_text_length` (17,0%) и `font-size_mean` (16,6%), которые также вносят заметный вклад, отражая объём текста и размер шрифтов на странице.\n",
    "\n",
    "3. **Менее значимые признаки** — `rotate_mean` (4,9%), `line-height_mean` (4,7%) и `height_mean` (8,2%), их влияние на модель относительно небольшое.  \n",
    "\n",
    "\n",
    "**Вывод:** Модель опирается в первую очередь на визуально и структурно выраженные признаки (ссылки, размеры элементов, текстовый объём), тогда как декоративные или второстепенные параметры (`rotate_mean`, `line-height_mean`) играют меньшую роль. Это логично с точки зрения различимости классов и природы признаков HTML-контента.\n"
   ]
  },
  {
   "cell_type": "markdown",
   "id": "0ecd4c3a-8709-4ff0-b371-7ae81f918296",
   "metadata": {},
   "source": [
    "## Заключение"
   ]
  },
  {
   "cell_type": "markdown",
   "id": "257e620c-9d7f-48e6-9bf4-1c916203bee9",
   "metadata": {},
   "source": [
    "**Общий вывод по исследованию:**\n",
    "\n",
    "В ходе работы была проведена подготовка и анализ HTML-документов для классификации на «хорошие» и «плохие» макеты. Были выполнены следующие шаги:\n",
    "\n",
    "1. **Предобработка данных:**\n",
    "\n",
    "   * Загружены JSON-файлы с контентом страниц.\n",
    "   * Декодированы HTML-сущности, экранирование кавычек сохранено.\n",
    "   * Построен DataFrame с признаками HTML-структуры, стилевых свойств и текстового содержимого.\n",
    "   * Были удалены избыточные и высоко коррелированные признаки для уменьшения мультиколлинеарности.\n",
    "\n",
    "2. **Анализ признаков:**\n",
    "\n",
    "   * Построены боксплоты для ключевых признаков, выявлены выбросы, которые являются естественными для структуры HTML и не удалялись.\n",
    "   * Проведена стандартизация числовых признаков для моделей, чувствительных к масштабу, с сохранением информативности данных.\n",
    "   * Удалены столбцы которые дублировали или имели высокую корреляуцию с другими признаками\n",
    "   \n",
    "3. **Моделирование и оценка:**\n",
    "\n",
    "   * Использованы модели Logistic Regression, KNN, Random Forest и Gradient Boosting.\n",
    "   * Ансамблевые методы (Random Forest и Gradient Boosting) показали наилучшую точность (≈97%) и высокую стабильность при кросс-валидации.\n",
    "   * Более простые модели (Logistic Regression и KNN) также показали хорошие результаты, что объясняется информативностью признаков и малым объёмом выборки.\n",
    "   * Высокие значения метрик являются нормальными для данной задачи, учитывая маленький размер выборки и явно выраженные признаки.\n",
    "   * Важность признаков показала, что наибольший вклад в предсказание вносят `link_count`, `width_min`, `total_text_length` и `font-size_mean`, тогда как декоративные параметры (`rotate_mean`, `line-height_mean`) имеют меньшее значение.\n",
    "\n",
    "\n",
    "**Вывод:**\n",
    "Для классификации HTML-контента текущие признаки позволяют достигать высокой точности, а оптимальным выбором моделей являются ансамблевые методы (Random Forest и Gradient Boosting), обеспечивающие как точность, так и устойчивость к вариативности данных. Предобработка и выбор признаков были проведены корректно, а сохранение естественных выбросов и стандартизация числовых признаков позволили модели работать эффективно и интерпретируемо."
   ]
  }
 ],
 "metadata": {
  "kernelspec": {
   "display_name": "Python 3 (ipykernel)",
   "language": "python",
   "name": "python3"
  },
  "language_info": {
   "codemirror_mode": {
    "name": "ipython",
    "version": 3
   },
   "file_extension": ".py",
   "mimetype": "text/x-python",
   "name": "python",
   "nbconvert_exporter": "python",
   "pygments_lexer": "ipython3",
   "version": "3.12.3"
  }
 },
 "nbformat": 4,
 "nbformat_minor": 5
}
